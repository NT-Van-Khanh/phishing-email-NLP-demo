{
  "nbformat": 4,
  "nbformat_minor": 0,
  "metadata": {
    "colab": {
      "provenance": []
    },
    "kernelspec": {
      "name": "python3",
      "display_name": "Python 3"
    },
    "language_info": {
      "name": "python"
    }
  },
  "cells": [
    {
      "cell_type": "markdown",
      "source": [
        "# Setup and Import"
      ],
      "metadata": {
        "id": "eY1C50dpJzKS"
      }
    },
    {
      "cell_type": "code",
      "source": [
        "import mailbox\n",
        "import email\n",
        "\n",
        "import nltk\n",
        "nltk.download('stopwords')\n",
        "nltk.download('vader_lexicon')\n",
        "import nltk.sentiment as sentiment                          #from nltk.sentiment import SentimentIntensityAnalyzer\n",
        "\n",
        "# import gensim\n",
        "import gensim.parsing.preprocessing as gs_preprocessing     #from gensim.parsing.preprocessing import *\n",
        "import gensim.corpora as corpora\n",
        "import gensim.models as models                              #from gensim.models import Word2Vec,LdaMulticore  #from gensim.models.doc2vec import Doc2Vec, TaggedDocument\n",
        "\n",
        "# import sklearn\n",
        "import sklearn.feature_extraction.text as text              #from sklearn.feature_extraction.text import TfidfVectorizer\n",
        "import sklearn.model_selection as model_selection           #from sklearn.model_selection import RandomizedSearchCV, train_test_split\n",
        "import sklearn.preprocessing as sk_preprocessing            #from sklearn.preprocessing import StandardScaler, MinMaxScaler\n",
        "import sklearn.ensemble as ensemble\n",
        "import sklearn.metrics as metrics                           #from sklearn.metrics import accuracy_score, precision_score, recall_score\n",
        "import sklearn.svm as svm                                   #from sklearn.svm import SVC\n",
        "\n",
        "import tensorflow.config as tf_config                       #from tensorflow import config\n",
        "import tensorflow.keras as tf_keras                         #from tensorflow import keras\n",
        "\n",
        "import numpy as np\n",
        "import pandas as pd\n",
        "import os"
      ],
      "metadata": {
        "id": "je-Elkn0J3nU",
        "outputId": "b1c0d30f-85e9-4c42-ec56-8ee8fd9c147a",
        "colab": {
          "base_uri": "https://localhost:8080/"
        }
      },
      "execution_count": 1,
      "outputs": [
        {
          "output_type": "stream",
          "name": "stderr",
          "text": [
            "[nltk_data] Downloading package stopwords to /root/nltk_data...\n",
            "[nltk_data]   Unzipping corpora/stopwords.zip.\n",
            "[nltk_data] Downloading package vader_lexicon to /root/nltk_data...\n"
          ]
        }
      ]
    },
    {
      "cell_type": "markdown",
      "source": [
        "# Data preprocessing"
      ],
      "metadata": {
        "id": "YraJJFnTQwvn"
      }
    },
    {
      "cell_type": "markdown",
      "source": [
        "## Load and Explore Data"
      ],
      "metadata": {
        "id": "5ZEwrhkOWzXv"
      }
    },
    {
      "cell_type": "markdown",
      "source": [
        "### Functions: Extract email from .mbox file and .eml file\n"
      ],
      "metadata": {
        "id": "YBf_LlOI-Cnn"
      }
    },
    {
      "cell_type": "code",
      "source": [
        "def extract_emails_from_mbox(mbox_file_name):\n",
        "  messages=[]\n",
        "  try:\n",
        "    mbox = mailbox.mbox(mbox_file_name)\n",
        "    for message in mbox:\n",
        "      messages.append(message)\n",
        "    # messages = [m[1] for m in mbox.items()]\n",
        "  except FileNotFoundError:\n",
        "    print(f\"File not found: {mbox_file_name}\")\n",
        "  return messages\n",
        "\n",
        "\n",
        "def extract_email_from_eml(eml_file_name):\n",
        "  email_message=None\n",
        "  try:\n",
        "      with open(eml_file_name, \"r\") as email_file:\n",
        "          email_message = email.message_from_file(email_file)\n",
        "  except FileNotFoundError:\n",
        "      print(f\"File not found: {eml_file_name}\")\n",
        "  except Exception as e:\n",
        "      print(f\"An error occurred: {e}\")\n",
        "  return email_message\n",
        "\n",
        "#From:https://stackoverflow.com/questions/7166922/extracting-the-body-of-an-email-from-mbox-file-decoding-it-to-plain-text-regard"
      ],
      "metadata": {
        "id": "M0vGJHcsbPak"
      },
      "execution_count": 2,
      "outputs": []
    },
    {
      "cell_type": "markdown",
      "source": [
        "### Functions: Extract component of email"
      ],
      "metadata": {
        "id": "mJYw16uQIDEd"
      }
    },
    {
      "cell_type": "code",
      "source": [
        "def extract_sender_email(email_message):\n",
        "  return email_message.get(\"From\")\n",
        "\n",
        "\n",
        "def extract_subject_email(email_message):\n",
        "  return email_message.get(\"Subject\")\n",
        "\n",
        "\n",
        "def extract_content_email(email_message):\n",
        "  body = None\n",
        "  if(email_message.is_multipart()):\n",
        "    for part in email_message.walk():\n",
        "      if(part.is_multipart()):\n",
        "        for subpart in part.walk():\n",
        "          if(subpart.get_content_type() == \"text/plain\"):\n",
        "            body = subpart.get_payload(decode=True)\n",
        "          # elif(subpart.get_content_type() == \"text/html\"):\n",
        "          #   body = subpart.get_payload(decode=True)\n",
        "      elif(part.get_content_type() == \"text/plain\"):\n",
        "        body = part.get_payload(decode=True)\n",
        "  else:\n",
        "    body = email_message.get_payload(decode=True)\n",
        "  if(body is not None) and isinstance(body, bytes):\n",
        "    #chuyển dữ liệu dạng byte string sang string (utf-8)\n",
        "    try:\n",
        "      body=body.decode('utf-8', errors='ignore')\n",
        "    except UnicodeDecodeError:\n",
        "      # Không làm gì cả nếu lỗi xảy ra, giữ nguyên giá trị body\n",
        "      pass\n",
        "  return body"
      ],
      "metadata": {
        "id": "sBT5Yl7GTPfg"
      },
      "execution_count": 3,
      "outputs": []
    },
    {
      "cell_type": "markdown",
      "source": [
        "### Process: Extract phishing emails"
      ],
      "metadata": {
        "id": "HtC14PZmJG_x"
      }
    },
    {
      "cell_type": "code",
      "source": [
        "phishing_message_bodies = []\n",
        "\n",
        "phishing_messages = extract_emails_from_mbox(\"/content/fradulent_emails.txt\")\n",
        "for message in phishing_messages:\n",
        "  body=extract_content_email(message)\n",
        "  if (body is not None and body.strip()):\n",
        "    phishing_message_bodies.append(body)\n",
        "    #print(body)\n",
        "    #print(body).decode('utf-8')\n",
        "\n",
        "print(len(phishing_message_bodies))\n",
        "print(len(phishing_messages))"
      ],
      "metadata": {
        "id": "b2FoHAWSGrUw",
        "outputId": "6d9b0d4d-96e6-40e3-f99c-3b1f7f8d9264",
        "colab": {
          "base_uri": "https://localhost:8080/"
        }
      },
      "execution_count": 15,
      "outputs": [
        {
          "output_type": "stream",
          "name": "stdout",
          "text": [
            "3928\n",
            "3978\n"
          ]
        }
      ]
    },
    {
      "cell_type": "markdown",
      "source": [
        "### Process: Extract benign emails"
      ],
      "metadata": {
        "id": "dYVDbnwbEUie"
      }
    },
    {
      "cell_type": "code",
      "source": [
        "benign_message_bodies = []\n",
        "\n",
        "benign_messages = extract_emails_from_mbox(\"/content/emails-enron-legal-mails.mbox\")\n",
        "for message in benign_messages:\n",
        "  body=extract_content_email(message)\n",
        "  if (body is not None and body.strip()):\n",
        "    benign_message_bodies.append(body)\n",
        "\n",
        "print(len(benign_message_bodies))\n",
        "print(len(benign_messages))"
      ],
      "metadata": {
        "id": "pmmlNwehETr0",
        "outputId": "3c1629b7-2892-447e-9bc6-6cdde903946a",
        "colab": {
          "base_uri": "https://localhost:8080/"
        }
      },
      "execution_count": 18,
      "outputs": [
        {
          "output_type": "stream",
          "name": "stdout",
          "text": [
            "4279\n",
            "4279\n"
          ]
        }
      ]
    },
    {
      "cell_type": "markdown",
      "source": [
        "### ===TEST==="
      ],
      "metadata": {
        "id": "VQOB1m2h1Tug"
      }
    },
    {
      "cell_type": "code",
      "source": [
        "msg = extract_email_from_eml(\"/content/sample1.eml\")\n",
        "messages = extract_emails_from_mbox(\"/emails-enron-legal-mails.mbox\")\n",
        "if(msg):\n",
        "  print(extract_sender_email(msg))\n",
        "  print(extract_subject_email(msg))\n",
        "  print(extract_content_email(msg))"
      ],
      "metadata": {
        "id": "LzTM6l8fKWtI",
        "outputId": "c3289350-f9b0-4d8c-8132-000375bdbfd9",
        "colab": {
          "base_uri": "https://localhost:8080/"
        }
      },
      "execution_count": null,
      "outputs": [
        {
          "output_type": "stream",
          "name": "stdout",
          "text": [
            "File not found: /content/sample1.eml\n"
          ]
        }
      ]
    },
    {
      "cell_type": "code",
      "source": [
        "print(phishing_messages[0])\n",
        "print(phishing_message_bodies[0])"
      ],
      "metadata": {
        "id": "ZFt1xuQ61WBe"
      },
      "execution_count": null,
      "outputs": []
    },
    {
      "cell_type": "code",
      "source": [
        "print(benign_messages[0])\n",
        "print(benign_message_bodies[0])"
      ],
      "metadata": {
        "id": "3t1IbwnB1Z2w",
        "outputId": "f1ea71bd-2a08-4329-b7b9-fb58ce99f933",
        "colab": {
          "base_uri": "https://localhost:8080/"
        }
      },
      "execution_count": 19,
      "outputs": [
        {
          "output_type": "stream",
          "name": "stdout",
          "text": [
            "Message-ID: <27151276.1075857703081.JavaMail.evans@thyme>\n",
            "Date: Thu, 28 Dec 2000 16:37:00 -0800 (PST)\n",
            "From: phillip.allen@enron.com\n",
            "To: john.lavorato@enron.com\n",
            "Subject: \n",
            "Mime-Version: 1.0\n",
            "Content-Type: text/plain; charset=ANSI_X3.4-1968\n",
            "Content-Transfer-Encoding: 7bit\n",
            "X-From: Phillip K Allen\n",
            "X-To: Lavorato, John </o=ENRON/ou=NA/cn=Recipients/cn=Jlavora>\n",
            "X-cc: \n",
            "X-bcc: \n",
            "X-Folder: \\jlavora\\COMP\n",
            "X-Origin: Lavorado-J\n",
            "X-FileName: jlavora.pst\n",
            "\n",
            "?\tPay well ? and pay for performance (with bonuses based on merit, not entitlement).\n",
            "\n",
            "\n",
            "\n",
            "\n",
            "Just a soundbite from a PRC email.  I am getting worried about Mike G. and myself.  Are you open to more discussions?\n",
            "\n",
            "Phillip\n",
            "\n",
            "\n",
            "?\tPay well ? and pay for performance (with bonuses based on merit, not entitlement).\r\n",
            "\r\n",
            "\r\n",
            "\r\n",
            "\r\n",
            "Just a soundbite from a PRC email.  I am getting worried about Mike G. and myself.  Are you open to more discussions?\r\n",
            "\r\n",
            "Phillip\r\n",
            "\r\n",
            "\n"
          ]
        }
      ]
    },
    {
      "cell_type": "markdown",
      "source": [
        "## Simple preprocessing"
      ],
      "metadata": {
        "id": "jdd-9_Ye04iv"
      }
    },
    {
      "cell_type": "markdown",
      "source": [
        "### Custom stop words and preprocessing filters"
      ],
      "metadata": {
        "id": "V3njuzeQQOvM"
      }
    },
    {
      "cell_type": "code",
      "source": [
        "# Custom stop words and preprocessing filters\n",
        "stopWords = nltk.corpus.stopwords\n",
        "stopWords = stopWords.words(\"english\")\n",
        "stopWords.extend([\"nbsp\", \"font\", \"sans\", \"serif\", \"bold\", \"arial\", \"verdana\", \"helvetica\", \"http\", \"https\", \"www\", \"html\", \"enron\", \"margin\", \"spamassassin\"])\n",
        "\n",
        "def remove_custom_stopwords(p):\n",
        "    return gs_preprocessing.remove_stopwords(p, stopwords=stopWords)\n",
        "\n",
        "CUSTOM_FILTERS = [lambda x: x.lower(), gs_preprocessing.strip_tags, gs_preprocessing.strip_punctuation,\n",
        "                  gs_preprocessing.strip_multiple_whitespaces, gs_preprocessing.strip_numeric, remove_custom_stopwords,\n",
        "                  gs_preprocessing.remove_stopwords, gs_preprocessing.strip_short, gs_preprocessing.stem_text]\n"
      ],
      "metadata": {
        "id": "ZftALxyg079z"
      },
      "execution_count": 11,
      "outputs": []
    },
    {
      "cell_type": "code",
      "source": [
        "def custom_preprocessing(messages):\n",
        "  preprocessed_messages = []\n",
        "  for message in messages:\n",
        "    preprocessed = gs_preprocessing.preprocess_string(message,filters = CUSTOM_FILTERS)\n",
        "    #NEED FIX: xu ly trung lap chi can thiet o black list\n",
        "    # if preprocessed and (preprocessed not in preprocessed_messages):\n",
        "    #   preprocessed_messages.append(preprocessed)\n",
        "    preprocessed_messages.append(preprocessed)\n",
        "\n",
        "  return preprocessed_messages\n",
        "\n",
        "#Bỏ các phần tử rỗng và trùng lập\n",
        "def duplicate_filter(texts):\n",
        "    unique_texts = []\n",
        "    for text in texts:\n",
        "        if text and (text not in unique_texts):\n",
        "            unique_texts.append(text)\n",
        "    return unique_texts\n"
      ],
      "metadata": {
        "id": "UHD1wYOMJUom"
      },
      "execution_count": 12,
      "outputs": []
    },
    {
      "cell_type": "markdown",
      "source": [
        "### Preprocess messages"
      ],
      "metadata": {
        "id": "18F0fKdqQTY2"
      }
    },
    {
      "cell_type": "code",
      "source": [
        "#preprocessing phishing message bodies\n",
        "phishing_preprocessed = []\n",
        "phishing_preprocessed =  custom_preprocessing(phishing_message_bodies)\n",
        "\n",
        "print(len(phishing_preprocessed))"
      ],
      "metadata": {
        "id": "MkbJl5lZ0_SL",
        "outputId": "2e8b58f6-eed2-40ec-b8e5-a699d4ec4106",
        "colab": {
          "base_uri": "https://localhost:8080/"
        }
      },
      "execution_count": 16,
      "outputs": [
        {
          "output_type": "stream",
          "name": "stdout",
          "text": [
            "3928\n"
          ]
        }
      ]
    },
    {
      "cell_type": "code",
      "source": [
        "#preprocessing benign message bodies\n",
        "benign_preprocessed = []\n",
        "benign_preprocessed =  custom_preprocessing(benign_message_bodies)\n",
        "\n",
        "print(len(benign_preprocessed))"
      ],
      "metadata": {
        "id": "t2FnvYnt1BWr",
        "outputId": "92d725f6-644e-4c48-9809-b8c971a4cefb",
        "colab": {
          "base_uri": "https://localhost:8080/"
        }
      },
      "execution_count": 20,
      "outputs": [
        {
          "output_type": "stream",
          "name": "stdout",
          "text": [
            "4279\n"
          ]
        }
      ]
    },
    {
      "cell_type": "markdown",
      "source": [
        "### ===TEST==="
      ],
      "metadata": {
        "id": "BWgiCUiuQn7H"
      }
    },
    {
      "cell_type": "code",
      "source": [
        "#Test\n",
        "print(len(phishing_message_bodies))\n",
        "print(len(duplicate_filter(phishing_message_bodies)))\n",
        "print(len(phishing_preprocessed))\n",
        "print(len(duplicate_filter(phishing_preprocessed)))\n",
        "\n",
        "print(phishing_preprocessed[0])"
      ],
      "metadata": {
        "id": "_0U5tciJ1DKp",
        "outputId": "7c95aa4b-9cb4-47ec-a2c6-971d89952587",
        "colab": {
          "base_uri": "https://localhost:8080/"
        }
      },
      "execution_count": 21,
      "outputs": [
        {
          "output_type": "stream",
          "name": "stdout",
          "text": [
            "3928\n",
            "3289\n",
            "3928\n",
            "3178\n",
            "['jame', 'ngola', 'confidenti', 'tel', 'mail', 'jame', 'ngola', 'maktoob', 'com', 'urgent', 'busi', 'assist', 'partnership', 'dear', 'friend', 'jame', 'ngola', 'person', 'assist', 'late', 'congoles', 'presid', 'laurent', 'kabila', 'assassin', 'bodi', 'guard', 'jan', 'incid', 'occur', 'presenc', 'hold', 'meet', 'excel', 'financi', 'return', 'diamond', 'sale', 'area', 'control', 'democrat', 'republ', 'congo', 'forc', 'foreign', 'alli', 'angola', 'zimbabw', 'receiv', 'previou', 'dai', 'usd', 'million', 'unit', 'state', 'dollar', 'cash', 'diplomat', 'box', 'rout', 'zimbabw', 'purpos', 'write', 'letter', 'solicit', 'assist', 'cover', 'fund', 'collabor', 'move', 'said', 'fund', 'bank', 'account', 'sum', 'usd', 'million', 'unit', 'state', 'dollar', 'deposit', 'secur', 'compani', 'ghana', 'diplomat', 'box', 'gold', 'worth', 'usd', 'million', 'unit', 'state', 'dollar', 'safe', 'keep', 'secur', 'vault', 'invest', 'countri', 'introduc', 'reliabl', 'friend', 'travel', 'member', 'chamber', 'commerc', 'reliabl', 'trustworthi', 'person', 'reli', 'foreign', 'partner', 'natur', 'transact', 'reveal', 'secur', 'reason', 'usd', 'proce', 'diamond', 'trade', 'meant', 'late', 'presid', 'laurent', 'kabila', 'deliv', 'zimbabw', 'diplomat', 'box', 'box', 'kept', 'custodi', 'sad', 'event', 'took', 'life', 'presid', 'confus', 'ensu', 'assassin', 'sporad', 'shoot', 'faction', 'run', 'awai', 'countri', 'dear', 'life', 'soldier', 'civil', 'servant', 'cross', 'river', 'congo', 'congo', 'librevil', 'move', 'countri', 'ghana', 'present', 'take', 'refug', 'matter', 'fact', 'urgent', 'need', 'assist', 'move', 'monei', 'account', 'countri', 'invest', 'rais', 'eyebrow', 'assist', 'total', 'sum', 'share', 'monei', 'get', 'account', 'kind', 'advic', 'hope', 'invest', 'profit', 'ventur', 'countri', 'settl', 'meaning', 'life', 'tire', 'live', 'war', 'environ', 'remain', 'offset', 'cost', 'incur', 'caus', 'move', 'monei', 'account', 'propos', 'accept', 'contact', 'immedi', 'telephon', 'mail', 'enabl', 'arrang', 'face', 'face', 'meet', 'ghana', 'clearanc', 'fund', 'transfr', 'bank', 'account', 'see', 'believ', 'final', 'import', 'let', 'understand', 'risk', 'involv', 'whatsoev', 'monei', 'record', 'kinshasa', 'meant', 'person', 'us', 'presidend', 'nefari', 'incid', 'occur', 'necessari', 'document', 'regard', 'fund', 'includ', 'certif', 'deposit', 'depositor', 'consign', 'look', 'forward', 'urgent', 'respons', 'sincer', 'jame', 'ngola']\n"
          ]
        }
      ]
    },
    {
      "cell_type": "markdown",
      "source": [
        "# Feature Engineering"
      ],
      "metadata": {
        "id": "gxcFSOInJrpp"
      }
    },
    {
      "cell_type": "code",
      "source": [
        "all_message_preprocessed = phishing_preprocessed + benign_preprocessed\n",
        "all_message_bodies = phishing_message_bodies + benign_message_bodies\n",
        "\n",
        "print(len(all_message_preprocessed))\n",
        "print(len(all_message_bodies))"
      ],
      "metadata": {
        "id": "r6qsxlGvVccA",
        "outputId": "a755c01d-9590-4376-82c9-20e510f1dee1",
        "colab": {
          "base_uri": "https://localhost:8080/"
        }
      },
      "execution_count": 22,
      "outputs": [
        {
          "output_type": "stream",
          "name": "stdout",
          "text": [
            "8207\n",
            "8207\n"
          ]
        }
      ]
    },
    {
      "cell_type": "markdown",
      "source": [
        "## Word2Vec Embedding\n"
      ],
      "metadata": {
        "id": "wtANJcvfjMD_"
      }
    },
    {
      "cell_type": "code",
      "source": [
        "# Train the model on all messages\n",
        "word2vec_model = models.Word2Vec(all_message_preprocessed, vector_size=100, min_count=1, workers=3, window=5)\n",
        "#From: https://www.geeksforgeeks.org/python-word-embedding-using-word2vec/"
      ],
      "metadata": {
        "id": "kRgK9ldSkCtd"
      },
      "execution_count": null,
      "outputs": []
    },
    {
      "cell_type": "code",
      "source": [
        "word2vec_model.wv.most_similar(\"dollar\", topn=20)"
      ],
      "metadata": {
        "id": "3e4GPHLjluvu",
        "outputId": "23d0d51c-cd0d-4fbc-d0f9-915970d8236e",
        "colab": {
          "base_uri": "https://localhost:8080/"
        }
      },
      "execution_count": null,
      "outputs": [
        {
          "output_type": "execute_result",
          "data": {
            "text/plain": [
              "[('billion', 0.9507895112037659),\n",
              " ('win', 0.9110546112060547),\n",
              " ('ubid', 0.903036892414093),\n",
              " ('maximum', 0.8959468603134155),\n",
              " ('tend', 0.8940055966377258),\n",
              " ('quantiti', 0.8918537497520447),\n",
              " ('supersit', 0.8888633251190186),\n",
              " ('defici', 0.8846665024757385),\n",
              " ('prioriti', 0.8796712160110474),\n",
              " ('half', 0.8794583082199097),\n",
              " ('auction', 0.8794552087783813),\n",
              " ('size', 0.8770312666893005),\n",
              " ('dissent', 0.8762837648391724),\n",
              " ('entri', 0.8752008080482483),\n",
              " ('dcq', 0.8745139837265015),\n",
              " ('store', 0.8734740018844604),\n",
              " ('majeur', 0.8722878098487854),\n",
              " ('grab', 0.8720036149024963),\n",
              " ('shorter', 0.8716081380844116),\n",
              " ('furthermor', 0.8704047203063965)]"
            ]
          },
          "metadata": {},
          "execution_count": 26
        }
      ]
    },
    {
      "cell_type": "code",
      "source": [
        "word2vec_model.wv[\"dollar\"]"
      ],
      "metadata": {
        "id": "ykaw9PxJlvup"
      },
      "execution_count": null,
      "outputs": []
    },
    {
      "cell_type": "markdown",
      "source": [
        "## LDA Topic Modeling"
      ],
      "metadata": {
        "id": "j8sFzX6jU8mg"
      }
    },
    {
      "cell_type": "markdown",
      "source": [
        "### Init the number of topics"
      ],
      "metadata": {
        "id": "ZpBNSKMUWhQu"
      }
    },
    {
      "cell_type": "code",
      "source": [
        "numTopics = 1024"
      ],
      "metadata": {
        "id": "_d1CZXaGVRy8"
      },
      "execution_count": 23,
      "outputs": []
    },
    {
      "cell_type": "markdown",
      "source": [
        "### Create dictionary and corpus"
      ],
      "metadata": {
        "id": "aguwb1mdVu4v"
      }
    },
    {
      "cell_type": "code",
      "source": [
        "dictionary = corpora.Dictionary(all_message_preprocessed)\n",
        "corpus = [dictionary.doc2bow(text) for text in all_message_preprocessed]"
      ],
      "metadata": {
        "id": "5aw2MNILTy1w"
      },
      "execution_count": 24,
      "outputs": []
    },
    {
      "cell_type": "code",
      "source": [
        "#test\n",
        "iterator = iter(dictionary.items())\n",
        "print([next(iterator) for _ in range(6)])\n",
        "print(corpus[0])"
      ],
      "metadata": {
        "id": "YPhs2VaHPZqj",
        "outputId": "81bc5923-4486-4b72-b28e-ad2e7c42a1e2",
        "colab": {
          "base_uri": "https://localhost:8080/"
        }
      },
      "execution_count": 25,
      "outputs": [
        {
          "output_type": "stream",
          "name": "stdout",
          "text": [
            "[(0, 'accept'), (1, 'account'), (2, 'advic'), (3, 'alli'), (4, 'angola'), (5, 'area')]\n",
            "[(0, 1), (1, 5), (2, 1), (3, 1), (4, 1), (5, 1), (6, 1), (7, 2), (8, 5), (9, 1), (10, 2), (11, 1), (12, 1), (13, 4), (14, 1), (15, 1), (16, 1), (17, 1), (18, 1), (19, 1), (20, 1), (21, 1), (22, 1), (23, 1), (24, 1), (25, 1), (26, 1), (27, 3), (28, 1), (29, 1), (30, 1), (31, 1), (32, 1), (33, 5), (34, 1), (35, 1), (36, 1), (37, 1), (38, 2), (39, 1), (40, 1), (41, 2), (42, 1), (43, 2), (44, 3), (45, 1), (46, 3), (47, 1), (48, 1), (49, 1), (50, 1), (51, 1), (52, 1), (53, 2), (54, 1), (55, 1), (56, 1), (57, 1), (58, 1), (59, 2), (60, 1), (61, 2), (62, 4), (63, 1), (64, 3), (65, 1), (66, 1), (67, 1), (68, 1), (69, 1), (70, 1), (71, 2), (72, 1), (73, 1), (74, 1), (75, 3), (76, 1), (77, 4), (78, 1), (79, 2), (80, 1), (81, 1), (82, 1), (83, 1), (84, 2), (85, 2), (86, 1), (87, 1), (88, 1), (89, 3), (90, 1), (91, 1), (92, 2), (93, 1), (94, 1), (95, 1), (96, 2), (97, 2), (98, 1), (99, 3), (100, 4), (101, 4), (102, 1), (103, 1), (104, 1), (105, 1), (106, 4), (107, 2), (108, 1), (109, 1), (110, 1), (111, 3), (112, 1), (113, 1), (114, 3), (115, 1), (116, 1), (117, 1), (118, 1), (119, 1), (120, 1), (121, 1), (122, 1), (123, 1), (124, 1), (125, 1), (126, 1), (127, 1), (128, 2), (129, 1), (130, 1), (131, 1), (132, 1), (133, 1), (134, 1), (135, 1), (136, 1), (137, 1), (138, 1), (139, 1), (140, 1), (141, 1), (142, 3), (143, 1), (144, 1), (145, 1), (146, 1), (147, 1), (148, 1), (149, 1), (150, 1), (151, 1), (152, 3), (153, 2), (154, 1), (155, 1), (156, 1), (157, 1), (158, 1), (159, 1), (160, 1), (161, 1), (162, 1), (163, 1), (164, 1), (165, 1), (166, 3), (167, 3), (168, 1), (169, 4), (170, 1), (171, 1), (172, 1), (173, 1), (174, 1), (175, 1), (176, 3)]\n"
          ]
        }
      ]
    },
    {
      "cell_type": "markdown",
      "source": [
        "###  Create LDA model"
      ],
      "metadata": {
        "id": "efVePDN9VySO"
      }
    },
    {
      "cell_type": "code",
      "source": [
        "LDA_model = models.LdaMulticore(corpus=corpus, id2word=dictionary, num_topics=numTopics)"
      ],
      "metadata": {
        "id": "TbqOjNTPXTVA",
        "outputId": "4f7c2a8f-f28a-4967-99a2-1e2d7d8018bd",
        "colab": {
          "base_uri": "https://localhost:8080/"
        }
      },
      "execution_count": 26,
      "outputs": [
        {
          "output_type": "stream",
          "name": "stderr",
          "text": [
            "WARNING:gensim.models.ldamulticore:too few updates, training might not converge; consider increasing the number of passes or iterations to improve accuracy\n"
          ]
        }
      ]
    },
    {
      "cell_type": "code",
      "source": [
        "#Test\n",
        "# Print keyword for the topics\n",
        "print(LDA_model.print_topics())"
      ],
      "metadata": {
        "id": "SNJqzs9mZ3wR",
        "outputId": "5626d8c2-913f-4356-98f6-fab9567a407a",
        "colab": {
          "base_uri": "https://localhost:8080/"
        }
      },
      "execution_count": 27,
      "outputs": [
        {
          "output_type": "stream",
          "name": "stdout",
          "text": [
            "[(121, '0.032*\"com\" + 0.010*\"servic\" + 0.009*\"oe\" + 0.008*\"dai\" + 0.008*\"local\" + 0.008*\"engin\" + 0.007*\"state\" + 0.006*\"updat\" + 0.006*\"gift\" + 0.006*\"email\"'), (625, '0.070*\"impact\" + 0.050*\"mail\" + 0.030*\"prioriti\" + 0.023*\"com\" + 0.022*\"asp\" + 0.012*\"hotmail\" + 0.009*\"line\" + 0.008*\"msn\" + 0.006*\"bank\" + 0.006*\"permiss\"'), (988, '0.078*\"abel\" + 0.043*\"decemb\" + 0.022*\"franklin\" + 0.021*\"georg\" + 0.021*\"patrick\" + 0.018*\"stori\" + 0.017*\"ect\" + 0.015*\"johnson\" + 0.015*\"maria\" + 0.013*\"desk\"'), (259, '0.028*\"press\" + 0.016*\"com\" + 0.013*\"heat\" + 0.008*\"agreement\" + 0.006*\"review\" + 0.005*\"gener\" + 0.005*\"meet\" + 0.005*\"allegedli\" + 0.005*\"dai\" + 0.005*\"toni\"'), (792, '0.043*\"phase\" + 0.032*\"electr\" + 0.026*\"convers\" + 0.021*\"make\" + 0.018*\"absenc\" + 0.017*\"built\" + 0.017*\"dam\" + 0.016*\"obvious\" + 0.016*\"span\" + 0.015*\"spot\"'), (551, '0.150*\"commission\" + 0.045*\"standard\" + 0.028*\"ga\" + 0.025*\"fed\" + 0.019*\"imbal\" + 0.014*\"extrem\" + 0.014*\"amend\" + 0.013*\"com\" + 0.013*\"notic\" + 0.012*\"joshua\"'), (462, '0.144*\"beach\" + 0.138*\"king\" + 0.038*\"paul\" + 0.031*\"mail\" + 0.025*\"ect\" + 0.018*\"distract\" + 0.018*\"group\" + 0.017*\"thompson\" + 0.017*\"law\" + 0.015*\"joe\"'), (574, '0.120*\"steven\" + 0.079*\"richard\" + 0.061*\"jun\" + 0.041*\"susan\" + 0.031*\"gov\" + 0.028*\"tabl\" + 0.026*\"william\" + 0.024*\"com\" + 0.014*\"phillip\" + 0.013*\"stephen\"'), (98, '0.201*\"exhibit\" + 0.092*\"michael\" + 0.039*\"confer\" + 0.034*\"technic\" + 0.032*\"attempt\" + 0.029*\"attend\" + 0.019*\"consensu\" + 0.015*\"joseph\" + 0.015*\"sent\" + 0.014*\"mail\"'), (964, '0.091*\"com\" + 0.021*\"richard\" + 0.020*\"bankruptci\" + 0.017*\"bulk\" + 0.013*\"energi\" + 0.008*\"court\" + 0.008*\"subject\" + 0.004*\"compani\" + 0.004*\"request\" + 0.004*\"issu\"'), (666, '0.039*\"com\" + 0.016*\"street\" + 0.009*\"debra\" + 0.009*\"smith\" + 0.009*\"bank\" + 0.008*\"north\" + 0.008*\"account\" + 0.007*\"post\" + 0.006*\"jane\" + 0.005*\"fund\"'), (925, '0.070*\"charact\" + 0.067*\"exploit\" + 0.045*\"longer\" + 0.021*\"brown\" + 0.017*\"label\" + 0.013*\"work\" + 0.009*\"csc\" + 0.008*\"associ\" + 0.007*\"receiv\" + 0.006*\"activ\"'), (758, '0.176*\"system\" + 0.042*\"environment\" + 0.024*\"timber\" + 0.019*\"ga\" + 0.013*\"com\" + 0.012*\"month\" + 0.011*\"like\" + 0.008*\"employe\" + 0.007*\"pan\" + 0.007*\"time\"'), (413, '0.339*\"jennif\" + 0.040*\"com\" + 0.007*\"text\" + 0.006*\"jame\" + 0.006*\"propos\" + 0.004*\"audit\" + 0.004*\"corp\" + 0.004*\"subject\" + 0.003*\"forward\" + 0.003*\"oper\"'), (854, '0.024*\"file\" + 0.018*\"pacif\" + 0.018*\"spoken\" + 0.014*\"order\" + 0.014*\"time\" + 0.014*\"committe\" + 0.013*\"vote\" + 0.011*\"laughter\" + 0.010*\"hotmail\" + 0.009*\"new\"'), (240, '0.105*\"brian\" + 0.014*\"plea\" + 0.013*\"mike\" + 0.012*\"com\" + 0.011*\"subject\" + 0.010*\"motion\" + 0.010*\"charl\" + 0.009*\"mail\" + 0.009*\"stephen\" + 0.009*\"bank\"'), (881, '0.077*\"terri\" + 0.023*\"edward\" + 0.021*\"uncl\" + 0.017*\"miller\" + 0.016*\"machin\" + 0.014*\"com\" + 0.014*\"michael\" + 0.013*\"carlo\" + 0.012*\"patric\" + 0.010*\"chang\"'), (914, '0.012*\"emaz\" + 0.010*\"imag\" + 0.010*\"dai\" + 0.007*\"internet\" + 0.007*\"gift\" + 0.007*\"monei\" + 0.006*\"tip\" + 0.006*\"free\" + 0.006*\"email\" + 0.005*\"busi\"'), (114, '0.166*\"travel\" + 0.057*\"holidai\" + 0.049*\"flight\" + 0.040*\"book\" + 0.015*\"class\" + 0.013*\"decemb\" + 0.013*\"restrict\" + 0.012*\"look\" + 0.011*\"net\" + 0.009*\"facil\"'), (266, '0.237*\"shop\" + 0.065*\"beauti\" + 0.056*\"capac\" + 0.050*\"org\" + 0.028*\"updat\" + 0.024*\"human\" + 0.024*\"stai\" + 0.024*\"trial\" + 0.012*\"sole\" + 0.012*\"new\"')]\n"
          ]
        }
      ]
    },
    {
      "cell_type": "markdown",
      "source": [
        "##Doc2Vec Embedding"
      ],
      "metadata": {
        "id": "K-V4GinQabbK"
      }
    },
    {
      "cell_type": "code",
      "source": [
        "tagged_data = [models.doc2vec.TaggedDocument(v, [i]) for i, v in enumerate(all_message_preprocessed)]"
      ],
      "metadata": {
        "id": "aC8vWlZ3aezK"
      },
      "execution_count": 28,
      "outputs": []
    },
    {
      "cell_type": "code",
      "source": [
        "#Khởi tạo và huấn luyện trực tiếp\n",
        "doc2vec_model = models.Doc2Vec(tagged_data, vector_size=20, window=2, min_count=1, workers=4)\n",
        "\n",
        "#Tách khởi tạo và huấn luyện1\n",
        "# doc2vec_model = models.Doc2Vec(tagged_data, vector_size=100, min_count=1, epochs=10)\n",
        "# doc2vec_model.build_vocab(tagged_data)\n",
        "# doc2vec_model.train(tagged_data, total_examples=doc2vec_model.corpus_count, epochs=doc2vec_model.epochs)"
      ],
      "metadata": {
        "id": "5_JOKTTzfDMP"
      },
      "execution_count": 29,
      "outputs": []
    },
    {
      "cell_type": "markdown",
      "source": [
        "## Blacklist words"
      ],
      "metadata": {
        "id": "QeuddVD5-Knt"
      }
    },
    {
      "cell_type": "code",
      "source": [
        "def get_file_lines(file_path):\n",
        "  lines=[]\n",
        "  try:\n",
        "    with open(file_path, 'r') as file:\n",
        "      for line in file:\n",
        "        lines.append(line.strip())\n",
        "  except FileNotFoundError:\n",
        "    print(f\"File not found: {file_path}\")\n",
        "  return lines"
      ],
      "metadata": {
        "id": "h9VMJIFaDX3T"
      },
      "execution_count": 30,
      "outputs": []
    },
    {
      "cell_type": "code",
      "source": [
        "black_list_words = get_file_lines(\"/content/spam_wordlist.txt\")\n",
        "black_list = custom_preprocessing(black_list_words)\n",
        "black_list = duplicate_filter(black_list)\n",
        "\n",
        "print(len(black_list_words))\n",
        "print(len(black_list))"
      ],
      "metadata": {
        "id": "D87FfTy6Rj9T",
        "outputId": "554df8f9-cf46-4cd8-dd7b-5aff066d2b5e",
        "colab": {
          "base_uri": "https://localhost:8080/"
        }
      },
      "execution_count": 31,
      "outputs": [
        {
          "output_type": "stream",
          "name": "stdout",
          "text": [
            "582\n",
            "369\n"
          ]
        }
      ]
    },
    {
      "cell_type": "markdown",
      "source": [
        "## TF-IDF"
      ],
      "metadata": {
        "id": "00E_wzpVqh8x"
      }
    },
    {
      "cell_type": "code",
      "source": [
        "#TF-IDF\n",
        "max_term=6"
      ],
      "metadata": {
        "id": "SpzXq0S4VWxY"
      },
      "execution_count": 32,
      "outputs": []
    },
    {
      "cell_type": "code",
      "source": [
        "def list_to_string(lst):\n",
        "    return ' '.join(lst)\n",
        "\n",
        "def count_all_upper_words(text):\n",
        "    count = 0\n",
        "    for word in text.split():\n",
        "        if word.isupper():\n",
        "            count += 1\n",
        "    return count"
      ],
      "metadata": {
        "id": "x0PWX0K9ctOe"
      },
      "execution_count": 34,
      "outputs": []
    },
    {
      "cell_type": "code",
      "source": [
        "tfidfVectorizer = text.TfidfVectorizer(max_features=max_term, preprocessor=list_to_string, sublinear_tf=True)\n",
        "tfidf_matrix = tfidfVectorizer.fit_transform(all_message_preprocessed).toarray()\n",
        "\n",
        "print(tfidfVectorizer.get_feature_names_out())\n",
        "print(tfidf_matrix.shape)\n",
        "print(tfidf_matrix[2])"
      ],
      "metadata": {
        "id": "eRfu_3cSYF0q",
        "outputId": "043173aa-c40b-47e1-d308-773e21403a80",
        "colab": {
          "base_uri": "https://localhost:8080/"
        }
      },
      "execution_count": 35,
      "outputs": [
        {
          "output_type": "stream",
          "name": "stdout",
          "text": [
            "['account' 'bank' 'com' 'ect' 'fund' 'monei']\n",
            "(8207, 6)\n",
            "[0.         0.         0.37148081 0.         0.54647204 0.75057998]\n"
          ]
        }
      ]
    },
    {
      "cell_type": "markdown",
      "source": [
        "## Function: Create Vector"
      ],
      "metadata": {
        "id": "GnnS-cy7-Etr"
      }
    },
    {
      "cell_type": "code",
      "source": [
        "def create_vectors_from_messages(messages, messages_preprocessed, messages_corpus):\n",
        "    # corpus = [dictionary.doc2bow(text) for text in messages_preprocessed] # Term document frequency\n",
        "    all_vectors = []\n",
        "    for i in range(len(messages)):\n",
        "        topTopics = LDA_model.get_document_topics(messages_corpus[i], minimum_probability=0.0)\n",
        "\n",
        "        # Can extend this array with other stuff later\n",
        "        vec = [topTopics[i][1] for i in range(numTopics)] # Topics\n",
        "\n",
        "        for v in doc2vec_model.infer_vector(messages_preprocessed[i]): # Doc2Vec\n",
        "            vec.append(v)\n",
        "\n",
        "        # Sentiment analysis of polarity\n",
        "        sia = sentiment.SentimentIntensityAnalyzer()\n",
        "        sentence = \" \".join(messages_preprocessed[i])\n",
        "        polarity = sia.polarity_scores(sentence)\n",
        "        for s in polarity:\n",
        "            vec.append(polarity[s])\n",
        "\n",
        "        # Contains HTML\n",
        "        if \"<html>\" in messages[i].lower():\n",
        "            vec.append(1)\n",
        "        else:\n",
        "            vec.append(0)\n",
        "\n",
        "        # Contains a link\n",
        "        if \"http://\" in messages[i].lower() or \"https://\" in messages[i].lower():\n",
        "            vec.append(1)\n",
        "        else:\n",
        "            vec.append(0)\n",
        "\n",
        "        # How many blacklisted phrases/words appear in this email\n",
        "        for b in black_list:\n",
        "            count = 0\n",
        "            for word in b:\n",
        "                if word in messages_preprocessed[i]:\n",
        "                    count += 1\n",
        "            vec.append(count)\n",
        "\n",
        "        # TF-IDF for top terms\n",
        "        for word_weight in tfidf_matrix[i]:\n",
        "            vec.append(word_weight)\n",
        "\n",
        "        # Has all caps word?\n",
        "        vec.append(count_all_upper_words(messages[i]))\n",
        "\n",
        "        # Has exclamation marks?\n",
        "        vec.append(messages[i].count(\"!\"))\n",
        "\n",
        "        # Total length\n",
        "        vec.append(len(messages[i]))\n",
        "\n",
        "        # Num words\n",
        "        vec.append(len(messages_preprocessed[i]))\n",
        "\n",
        "        all_vectors.append(vec)\n",
        "\n",
        "    return all_vectors"
      ],
      "metadata": {
        "id": "UD7_5yfM9Cw6"
      },
      "execution_count": 36,
      "outputs": []
    },
    {
      "cell_type": "markdown",
      "source": [
        "## Process: Create vector"
      ],
      "metadata": {
        "id": "EsLsCZtGqase"
      }
    },
    {
      "cell_type": "code",
      "source": [
        "all_vectors = create_vectors_from_messages(all_message_bodies, all_message_preprocessed,corpus)"
      ],
      "metadata": {
        "id": "o5aXGmxejnxx"
      },
      "execution_count": 37,
      "outputs": []
    },
    {
      "cell_type": "code",
      "source": [
        "print(np.array(all_vectors).shape)\n",
        "print(all_vectors[0])"
      ],
      "metadata": {
        "id": "GVJodMRhm6NV",
        "outputId": "688f65f1-190d-4447-dffc-bb2bc61ade01",
        "colab": {
          "base_uri": "https://localhost:8080/"
        }
      },
      "execution_count": 38,
      "outputs": [
        {
          "output_type": "stream",
          "name": "stdout",
          "text": [
            "(8207, 1429)\n",
            "[3.94868e-06, 3.94868e-06, 3.94868e-06, 3.94868e-06, 3.94868e-06, 3.94868e-06, 3.94868e-06, 3.94868e-06, 3.94868e-06, 3.94868e-06, 3.94868e-06, 3.94868e-06, 3.94868e-06, 3.94868e-06, 3.94868e-06, 3.94868e-06, 3.94868e-06, 3.94868e-06, 3.94868e-06, 3.94868e-06, 3.94868e-06, 0.2266693, 3.94868e-06, 3.94868e-06, 3.94868e-06, 3.94868e-06, 3.94868e-06, 3.94868e-06, 3.94868e-06, 3.94868e-06, 3.94868e-06, 3.94868e-06, 3.94868e-06, 3.94868e-06, 3.94868e-06, 3.94868e-06, 3.94868e-06, 3.94868e-06, 3.94868e-06, 3.94868e-06, 3.94868e-06, 3.94868e-06, 3.94868e-06, 3.94868e-06, 0.011951225, 3.94868e-06, 3.94868e-06, 3.94868e-06, 3.94868e-06, 3.94868e-06, 3.94868e-06, 3.94868e-06, 3.94868e-06, 3.94868e-06, 3.94868e-06, 3.94868e-06, 3.94868e-06, 3.94868e-06, 3.94868e-06, 3.94868e-06, 3.94868e-06, 3.94868e-06, 3.94868e-06, 3.94868e-06, 3.94868e-06, 3.94868e-06, 3.94868e-06, 3.94868e-06, 3.94868e-06, 3.94868e-06, 3.94868e-06, 3.94868e-06, 3.94868e-06, 3.94868e-06, 3.94868e-06, 0.0056475936, 3.94868e-06, 3.94868e-06, 3.94868e-06, 3.94868e-06, 3.94868e-06, 3.94868e-06, 3.94868e-06, 3.94868e-06, 3.94868e-06, 3.94868e-06, 3.94868e-06, 3.94868e-06, 3.94868e-06, 3.94868e-06, 3.94868e-06, 3.94868e-06, 3.94868e-06, 3.94868e-06, 3.94868e-06, 3.94868e-06, 3.94868e-06, 3.94868e-06, 3.94868e-06, 3.94868e-06, 3.94868e-06, 3.94868e-06, 3.94868e-06, 3.94868e-06, 3.94868e-06, 3.94868e-06, 3.94868e-06, 3.94868e-06, 3.94868e-06, 3.94868e-06, 3.94868e-06, 0.17723371, 3.94868e-06, 3.94868e-06, 0.005900418, 3.94868e-06, 3.94868e-06, 3.94868e-06, 3.94868e-06, 3.94868e-06, 3.94868e-06, 3.94868e-06, 3.94868e-06, 3.94868e-06, 3.94868e-06, 3.94868e-06, 3.94868e-06, 3.94868e-06, 3.94868e-06, 3.94868e-06, 3.94868e-06, 3.94868e-06, 3.94868e-06, 3.94868e-06, 3.94868e-06, 3.94868e-06, 3.94868e-06, 3.94868e-06, 3.94868e-06, 3.94868e-06, 3.94868e-06, 3.94868e-06, 3.94868e-06, 3.94868e-06, 3.94868e-06, 3.94868e-06, 3.94868e-06, 3.94868e-06, 3.94868e-06, 3.94868e-06, 3.94868e-06, 3.94868e-06, 3.94868e-06, 3.94868e-06, 3.94868e-06, 3.94868e-06, 3.94868e-06, 3.94868e-06, 3.94868e-06, 3.94868e-06, 3.94868e-06, 3.94868e-06, 3.94868e-06, 3.94868e-06, 3.94868e-06, 3.94868e-06, 3.94868e-06, 3.94868e-06, 3.94868e-06, 0.020580968, 3.94868e-06, 3.94868e-06, 3.94868e-06, 3.94868e-06, 3.94868e-06, 3.94868e-06, 3.94868e-06, 3.94868e-06, 3.94868e-06, 3.94868e-06, 3.94868e-06, 3.94868e-06, 3.94868e-06, 3.94868e-06, 3.94868e-06, 3.94868e-06, 3.94868e-06, 3.94868e-06, 3.94868e-06, 3.94868e-06, 3.94868e-06, 3.94868e-06, 3.94868e-06, 3.94868e-06, 3.94868e-06, 3.94868e-06, 3.94868e-06, 3.94868e-06, 3.94868e-06, 3.94868e-06, 3.94868e-06, 3.94868e-06, 3.94868e-06, 3.94868e-06, 3.94868e-06, 3.94868e-06, 3.94868e-06, 3.94868e-06, 3.94868e-06, 3.94868e-06, 3.94868e-06, 3.94868e-06, 3.94868e-06, 3.94868e-06, 3.94868e-06, 3.94868e-06, 3.94868e-06, 0.027284516, 3.94868e-06, 3.94868e-06, 3.94868e-06, 3.94868e-06, 3.94868e-06, 3.94868e-06, 3.94868e-06, 3.94868e-06, 3.94868e-06, 3.94868e-06, 3.94868e-06, 3.94868e-06, 3.94868e-06, 3.94868e-06, 3.94868e-06, 3.94868e-06, 3.94868e-06, 3.94868e-06, 3.94868e-06, 3.94868e-06, 3.94868e-06, 3.94868e-06, 3.94868e-06, 3.94868e-06, 3.94868e-06, 3.94868e-06, 3.94868e-06, 3.94868e-06, 3.94868e-06, 3.94868e-06, 3.94868e-06, 3.94868e-06, 3.94868e-06, 3.94868e-06, 3.94868e-06, 3.94868e-06, 3.94868e-06, 3.94868e-06, 3.94868e-06, 3.94868e-06, 3.94868e-06, 3.94868e-06, 3.94868e-06, 3.94868e-06, 3.94868e-06, 3.94868e-06, 3.94868e-06, 3.94868e-06, 3.94868e-06, 3.94868e-06, 3.94868e-06, 3.94868e-06, 3.94868e-06, 3.94868e-06, 3.94868e-06, 3.94868e-06, 3.94868e-06, 3.94868e-06, 3.94868e-06, 3.94868e-06, 3.94868e-06, 3.94868e-06, 3.94868e-06, 3.94868e-06, 3.94868e-06, 3.94868e-06, 3.94868e-06, 3.94868e-06, 3.94868e-06, 3.94868e-06, 3.94868e-06, 3.94868e-06, 3.94868e-06, 3.94868e-06, 3.94868e-06, 3.94868e-06, 3.94868e-06, 3.94868e-06, 3.94868e-06, 3.94868e-06, 3.94868e-06, 3.94868e-06, 3.94868e-06, 3.94868e-06, 3.94868e-06, 3.94868e-06, 3.94868e-06, 3.94868e-06, 3.94868e-06, 3.94868e-06, 3.94868e-06, 3.94868e-06, 3.94868e-06, 3.94868e-06, 3.94868e-06, 3.94868e-06, 3.94868e-06, 3.94868e-06, 3.94868e-06, 3.94868e-06, 3.94868e-06, 3.94868e-06, 3.94868e-06, 3.94868e-06, 3.94868e-06, 3.94868e-06, 3.94868e-06, 3.94868e-06, 3.94868e-06, 3.94868e-06, 3.94868e-06, 3.94868e-06, 3.94868e-06, 3.94868e-06, 3.94868e-06, 3.94868e-06, 3.94868e-06, 3.94868e-06, 3.94868e-06, 3.94868e-06, 3.94868e-06, 3.94868e-06, 3.94868e-06, 3.94868e-06, 3.94868e-06, 3.94868e-06, 3.94868e-06, 3.94868e-06, 3.94868e-06, 3.94868e-06, 3.94868e-06, 3.94868e-06, 3.94868e-06, 3.94868e-06, 0.013417053, 3.94868e-06, 3.94868e-06, 3.94868e-06, 3.94868e-06, 3.94868e-06, 3.94868e-06, 3.94868e-06, 3.94868e-06, 3.94868e-06, 3.94868e-06, 3.94868e-06, 3.94868e-06, 3.94868e-06, 3.94868e-06, 3.94868e-06, 0.011913734, 3.94868e-06, 3.94868e-06, 3.94868e-06, 3.94868e-06, 3.94868e-06, 3.94868e-06, 3.94868e-06, 3.94868e-06, 3.94868e-06, 3.94868e-06, 3.94868e-06, 3.94868e-06, 3.94868e-06, 3.94868e-06, 3.94868e-06, 3.94868e-06, 3.94868e-06, 3.94868e-06, 3.94868e-06, 3.94868e-06, 3.94868e-06, 0.0043591545, 3.94868e-06, 3.94868e-06, 3.94868e-06, 3.94868e-06, 3.94868e-06, 3.94868e-06, 3.94868e-06, 3.94868e-06, 3.94868e-06, 3.94868e-06, 3.94868e-06, 3.94868e-06, 3.94868e-06, 3.94868e-06, 3.94868e-06, 3.94868e-06, 3.94868e-06, 3.94868e-06, 3.94868e-06, 3.94868e-06, 3.94868e-06, 3.94868e-06, 3.94868e-06, 3.94868e-06, 3.94868e-06, 3.94868e-06, 3.94868e-06, 3.94868e-06, 3.94868e-06, 3.94868e-06, 3.94868e-06, 3.94868e-06, 3.94868e-06, 3.94868e-06, 3.94868e-06, 3.94868e-06, 3.94868e-06, 3.94868e-06, 3.94868e-06, 3.94868e-06, 3.94868e-06, 3.94868e-06, 3.94868e-06, 3.94868e-06, 3.94868e-06, 3.94868e-06, 3.94868e-06, 3.94868e-06, 3.94868e-06, 3.94868e-06, 3.94868e-06, 3.94868e-06, 3.94868e-06, 3.94868e-06, 3.94868e-06, 3.94868e-06, 3.94868e-06, 3.94868e-06, 3.94868e-06, 3.94868e-06, 3.94868e-06, 3.94868e-06, 3.94868e-06, 3.94868e-06, 3.94868e-06, 3.94868e-06, 3.94868e-06, 3.94868e-06, 3.94868e-06, 3.94868e-06, 3.94868e-06, 3.94868e-06, 3.94868e-06, 3.94868e-06, 3.94868e-06, 3.94868e-06, 3.94868e-06, 3.94868e-06, 3.94868e-06, 3.94868e-06, 3.94868e-06, 3.94868e-06, 3.94868e-06, 3.94868e-06, 3.94868e-06, 3.94868e-06, 3.94868e-06, 3.94868e-06, 3.94868e-06, 3.94868e-06, 3.94868e-06, 0.2842476, 3.94868e-06, 3.94868e-06, 3.94868e-06, 3.94868e-06, 3.94868e-06, 3.94868e-06, 3.94868e-06, 3.94868e-06, 3.94868e-06, 3.94868e-06, 3.94868e-06, 3.94868e-06, 3.94868e-06, 3.94868e-06, 3.94868e-06, 3.94868e-06, 3.94868e-06, 3.94868e-06, 3.94868e-06, 3.94868e-06, 3.94868e-06, 3.94868e-06, 3.94868e-06, 3.94868e-06, 3.94868e-06, 3.94868e-06, 3.94868e-06, 3.94868e-06, 3.94868e-06, 3.94868e-06, 3.94868e-06, 3.94868e-06, 3.94868e-06, 3.94868e-06, 3.94868e-06, 3.94868e-06, 3.94868e-06, 0.013558577, 3.94868e-06, 3.94868e-06, 3.94868e-06, 3.94868e-06, 3.94868e-06, 3.94868e-06, 3.94868e-06, 3.94868e-06, 3.94868e-06, 3.94868e-06, 3.94868e-06, 3.94868e-06, 3.94868e-06, 3.94868e-06, 3.94868e-06, 3.94868e-06, 3.94868e-06, 3.94868e-06, 3.94868e-06, 3.94868e-06, 3.94868e-06, 3.94868e-06, 3.94868e-06, 3.94868e-06, 3.94868e-06, 3.94868e-06, 3.94868e-06, 3.94868e-06, 3.94868e-06, 3.94868e-06, 3.94868e-06, 3.94868e-06, 3.94868e-06, 3.94868e-06, 3.94868e-06, 3.94868e-06, 3.94868e-06, 3.94868e-06, 3.94868e-06, 3.94868e-06, 3.94868e-06, 3.94868e-06, 3.94868e-06, 3.94868e-06, 0.02187112, 3.94868e-06, 3.94868e-06, 3.94868e-06, 3.94868e-06, 3.94868e-06, 3.94868e-06, 3.94868e-06, 3.94868e-06, 3.94868e-06, 3.94868e-06, 3.94868e-06, 3.94868e-06, 3.94868e-06, 3.94868e-06, 3.94868e-06, 3.94868e-06, 3.94868e-06, 3.94868e-06, 3.94868e-06, 3.94868e-06, 3.94868e-06, 3.94868e-06, 3.94868e-06, 3.94868e-06, 3.94868e-06, 3.94868e-06, 3.94868e-06, 3.94868e-06, 3.94868e-06, 3.94868e-06, 3.94868e-06, 3.94868e-06, 3.94868e-06, 3.94868e-06, 3.94868e-06, 3.94868e-06, 3.94868e-06, 3.94868e-06, 3.94868e-06, 3.94868e-06, 3.94868e-06, 3.94868e-06, 3.94868e-06, 3.94868e-06, 3.94868e-06, 3.94868e-06, 3.94868e-06, 3.94868e-06, 3.94868e-06, 3.94868e-06, 3.94868e-06, 3.94868e-06, 3.94868e-06, 3.94868e-06, 3.94868e-06, 3.94868e-06, 3.94868e-06, 3.94868e-06, 3.94868e-06, 3.94868e-06, 3.94868e-06, 3.94868e-06, 3.94868e-06, 3.94868e-06, 3.94868e-06, 0.007436367, 3.94868e-06, 3.94868e-06, 3.94868e-06, 3.94868e-06, 3.94868e-06, 3.94868e-06, 3.94868e-06, 3.94868e-06, 3.94868e-06, 3.94868e-06, 3.94868e-06, 3.94868e-06, 3.94868e-06, 3.94868e-06, 3.94868e-06, 3.94868e-06, 3.94868e-06, 3.94868e-06, 3.94868e-06, 3.94868e-06, 3.94868e-06, 3.94868e-06, 3.94868e-06, 3.94868e-06, 3.94868e-06, 3.94868e-06, 3.94868e-06, 3.94868e-06, 3.94868e-06, 3.94868e-06, 3.94868e-06, 3.94868e-06, 3.94868e-06, 3.94868e-06, 3.94868e-06, 3.94868e-06, 3.94868e-06, 3.94868e-06, 3.94868e-06, 3.94868e-06, 3.94868e-06, 3.94868e-06, 3.94868e-06, 3.94868e-06, 3.94868e-06, 3.94868e-06, 3.94868e-06, 3.94868e-06, 3.94868e-06, 3.94868e-06, 3.94868e-06, 3.94868e-06, 3.94868e-06, 3.94868e-06, 3.94868e-06, 3.94868e-06, 3.94868e-06, 3.94868e-06, 3.94868e-06, 3.94868e-06, 0.0073125917, 3.94868e-06, 3.94868e-06, 3.94868e-06, 3.94868e-06, 3.94868e-06, 3.94868e-06, 3.94868e-06, 3.94868e-06, 3.94868e-06, 3.94868e-06, 3.94868e-06, 3.94868e-06, 3.94868e-06, 3.94868e-06, 3.94868e-06, 3.94868e-06, 3.94868e-06, 3.94868e-06, 3.94868e-06, 3.94868e-06, 3.94868e-06, 3.94868e-06, 3.94868e-06, 3.94868e-06, 3.94868e-06, 3.94868e-06, 3.94868e-06, 3.94868e-06, 3.94868e-06, 3.94868e-06, 3.94868e-06, 3.94868e-06, 0.012112035, 3.94868e-06, 3.94868e-06, 3.94868e-06, 3.94868e-06, 3.94868e-06, 3.94868e-06, 3.94868e-06, 3.94868e-06, 3.94868e-06, 3.94868e-06, 3.94868e-06, 3.94868e-06, 3.94868e-06, 3.94868e-06, 3.94868e-06, 3.94868e-06, 3.94868e-06, 3.94868e-06, 3.94868e-06, 3.94868e-06, 3.94868e-06, 3.94868e-06, 3.94868e-06, 3.94868e-06, 3.94868e-06, 3.94868e-06, 3.94868e-06, 3.94868e-06, 3.94868e-06, 3.94868e-06, 3.94868e-06, 3.94868e-06, 3.94868e-06, 3.94868e-06, 3.94868e-06, 3.94868e-06, 3.94868e-06, 3.94868e-06, 3.94868e-06, 3.94868e-06, 3.94868e-06, 3.94868e-06, 3.94868e-06, 3.94868e-06, 3.94868e-06, 3.94868e-06, 3.94868e-06, 3.94868e-06, 3.94868e-06, 3.94868e-06, 3.94868e-06, 3.94868e-06, 3.94868e-06, 3.94868e-06, 3.94868e-06, 0.0047516027, 3.94868e-06, 3.94868e-06, 3.94868e-06, 3.94868e-06, 3.94868e-06, 3.94868e-06, 3.94868e-06, 3.94868e-06, 3.94868e-06, 3.94868e-06, 3.94868e-06, 3.94868e-06, 3.94868e-06, 3.94868e-06, 3.94868e-06, 3.94868e-06, 3.94868e-06, 3.94868e-06, 3.94868e-06, 0.00518477, 3.94868e-06, 3.94868e-06, 3.94868e-06, 3.94868e-06, 3.94868e-06, 3.94868e-06, 3.94868e-06, 3.94868e-06, 3.94868e-06, 3.94868e-06, 3.94868e-06, 3.94868e-06, 3.94868e-06, 3.94868e-06, 3.94868e-06, 3.94868e-06, 3.94868e-06, 3.94868e-06, 3.94868e-06, 3.94868e-06, 3.94868e-06, 3.94868e-06, 3.94868e-06, 3.94868e-06, 3.94868e-06, 3.94868e-06, 3.94868e-06, 3.94868e-06, 3.94868e-06, 3.94868e-06, 3.94868e-06, 3.94868e-06, 3.94868e-06, 3.94868e-06, 0.004906474, 3.94868e-06, 3.94868e-06, 3.94868e-06, 3.94868e-06, 3.94868e-06, 3.94868e-06, 3.94868e-06, 3.94868e-06, 3.94868e-06, 3.94868e-06, 3.94868e-06, 3.94868e-06, 3.94868e-06, 3.94868e-06, 3.94868e-06, 3.94868e-06, 3.94868e-06, 3.94868e-06, 3.94868e-06, 3.94868e-06, 3.94868e-06, 3.94868e-06, 3.94868e-06, 3.94868e-06, 3.94868e-06, 3.94868e-06, 3.94868e-06, 3.94868e-06, 3.94868e-06, 3.94868e-06, 0.01299831, 3.94868e-06, 3.94868e-06, 3.94868e-06, 3.94868e-06, 3.94868e-06, 3.94868e-06, 3.94868e-06, 3.94868e-06, 3.94868e-06, 3.94868e-06, 3.94868e-06, 3.94868e-06, 3.94868e-06, 3.94868e-06, 3.94868e-06, 3.94868e-06, 0.062171597, 3.94868e-06, 3.94868e-06, 3.94868e-06, 3.94868e-06, 3.94868e-06, 3.94868e-06, 3.94868e-06, 3.94868e-06, 3.94868e-06, 3.94868e-06, 3.94868e-06, 3.94868e-06, 3.94868e-06, 0.010676062, 3.94868e-06, 3.94868e-06, 3.94868e-06, 3.94868e-06, 3.94868e-06, 3.94868e-06, 3.94868e-06, 3.94868e-06, 3.94868e-06, 3.94868e-06, 3.94868e-06, 3.94868e-06, 3.94868e-06, 3.94868e-06, 3.94868e-06, 3.94868e-06, 3.94868e-06, 3.94868e-06, 3.94868e-06, 3.94868e-06, 3.94868e-06, 3.94868e-06, 3.94868e-06, 3.94868e-06, 3.94868e-06, 3.94868e-06, 3.94868e-06, 3.94868e-06, 3.94868e-06, 3.94868e-06, 3.94868e-06, 3.94868e-06, 3.94868e-06, 3.94868e-06, 3.94868e-06, 3.94868e-06, 3.94868e-06, 3.94868e-06, 3.94868e-06, 3.94868e-06, 3.94868e-06, 3.94868e-06, 3.94868e-06, 3.94868e-06, 3.94868e-06, 3.94868e-06, 3.94868e-06, 3.94868e-06, 3.94868e-06, 3.94868e-06, 3.94868e-06, 3.94868e-06, 3.94868e-06, 3.94868e-06, 3.94868e-06, 3.94868e-06, 3.94868e-06, 3.94868e-06, 3.94868e-06, 3.94868e-06, 3.94868e-06, 3.94868e-06, 3.94868e-06, 3.94868e-06, 3.94868e-06, 3.94868e-06, 3.94868e-06, 3.94868e-06, 3.94868e-06, 3.94868e-06, 3.94868e-06, 3.94868e-06, 3.94868e-06, 3.94868e-06, 3.94868e-06, 3.94868e-06, 3.94868e-06, 3.94868e-06, 3.94868e-06, 3.94868e-06, 3.94868e-06, 3.94868e-06, 3.94868e-06, 3.94868e-06, 3.94868e-06, 3.94868e-06, 3.94868e-06, 0.043862592, 3.94868e-06, 3.94868e-06, 3.94868e-06, 3.94868e-06, 3.94868e-06, 3.94868e-06, 3.94868e-06, 3.94868e-06, 3.94868e-06, 3.94868e-06, 3.94868e-06, 3.94868e-06, 3.94868e-06, 3.94868e-06, 3.94868e-06, 3.94868e-06, 3.94868e-06, 3.94868e-06, 3.94868e-06, 3.94868e-06, 3.94868e-06, 3.94868e-06, 3.94868e-06, 3.94868e-06, 3.94868e-06, 3.94868e-06, 3.94868e-06, 3.94868e-06, 3.94868e-06, 3.94868e-06, 3.94868e-06, 3.94868e-06, 3.94868e-06, 3.94868e-06, 3.94868e-06, 3.94868e-06, 3.94868e-06, -0.2127676, 0.007862903, -0.6613047, -0.6360779, -0.28529212, 0.09329849, -0.5775251, -0.49432042, -1.8422102, 0.53025764, 0.087276906, 0.103623636, 0.70371246, -0.021657921, 0.124699794, -0.10545687, 0.038634926, -0.6922063, 0.041983023, -0.80319303, 0.04, 0.806, 0.154, 0.9803, 0, 0, 0, 0, 0, 0, 0, 0, 0, 1, 1, 0, 1, 0, 1, 1, 0, 1, 0, 0, 1, 1, 0, 0, 0, 0, 0, 1, 0, 1, 0, 0, 0, 0, 0, 0, 0, 0, 1, 0, 0, 0, 0, 1, 2, 0, 0, 0, 1, 0, 0, 0, 1, 1, 0, 1, 0, 0, 0, 0, 1, 0, 0, 0, 0, 0, 1, 0, 0, 0, 0, 0, 0, 0, 0, 0, 1, 0, 0, 1, 0, 0, 0, 0, 0, 0, 1, 0, 1, 0, 2, 0, 0, 0, 0, 0, 0, 0, 1, 0, 0, 1, 0, 0, 0, 1, 0, 1, 0, 1, 0, 0, 0, 0, 0, 1, 1, 0, 0, 0, 0, 0, 0, 0, 0, 0, 0, 0, 0, 0, 1, 0, 0, 0, 0, 0, 0, 1, 1, 0, 0, 0, 1, 0, 0, 0, 0, 0, 0, 0, 1, 0, 0, 0, 0, 0, 0, 0, 0, 0, 0, 0, 0, 0, 0, 0, 0, 0, 0, 0, 0, 0, 0, 0, 0, 0, 0, 0, 0, 0, 1, 0, 0, 0, 1, 0, 0, 0, 0, 0, 1, 0, 1, 0, 0, 0, 0, 0, 0, 0, 0, 0, 0, 0, 0, 0, 0, 0, 0, 0, 1, 0, 1, 1, 0, 1, 1, 0, 0, 0, 0, 0, 0, 0, 0, 1, 0, 0, 0, 0, 1, 0, 0, 0, 0, 0, 0, 0, 0, 0, 0, 0, 0, 0, 0, 0, 0, 0, 0, 0, 0, 1, 1, 0, 0, 0, 0, 0, 0, 0, 0, 0, 1, 0, 0, 0, 1, 0, 0, 0, 0, 0, 0, 0, 0, 0, 0, 1, 0, 0, 0, 0, 0, 0, 0, 1, 1, 1, 0, 0, 0, 0, 1, 1, 1, 0, 0, 0, 1, 0, 0, 0, 0, 0, 0, 0, 0, 0, 0, 1, 0, 1, 0, 0, 1, 0, 1, 0, 0, 0, 0, 0, 0, 0, 1, 0, 0, 0, 0, 0, 1, 0, 0, 0, 0, 1, 0, 0, 1, 0, 0, 0, 0, 0, 0, 0, 0, 1, 0, 0, 0, 0, 0, 0, 0, 0, 0, 0, 0, 0, 0, 0, 0, 0, 0, 0, 0, 0, 0, 0, 0, 0.564002883884009, 0.38891313895446883, 0.1782540776567635, 0.0, 0.5048444096154759, 0.4939685447453523, 569, 0, 3385, 256]\n"
          ]
        }
      ]
    },
    {
      "cell_type": "markdown",
      "source": [
        "## Labeling and Data Splitting"
      ],
      "metadata": {
        "id": "pJuQfnwFPJJU"
      }
    },
    {
      "cell_type": "code",
      "source": [
        "all_labels = []\n",
        "all_labels.extend([1]*len(phishing_preprocessed))   #for i in range(len(phishing_preprocessed)): all_labels.append(1)\n",
        "all_labels.extend([0]*len(benign_preprocessed))     #for i in range(len(benign_preprocessed)):  all_labels.append(0)"
      ],
      "metadata": {
        "id": "h3weC6JmdGj1"
      },
      "execution_count": 39,
      "outputs": []
    },
    {
      "cell_type": "code",
      "source": [
        "print(len(all_labels))"
      ],
      "metadata": {
        "id": "qidmJuYCUL2D",
        "outputId": "c07180b8-4181-4cae-9b3c-62fe7cdb646e",
        "colab": {
          "base_uri": "https://localhost:8080/"
        }
      },
      "execution_count": null,
      "outputs": [
        {
          "output_type": "stream",
          "name": "stdout",
          "text": [
            "4279\n"
          ]
        }
      ]
    },
    {
      "cell_type": "code",
      "source": [
        "# Scale and split data\n",
        "# Scale the data\n",
        "scaler = sk_preprocessing.StandardScaler()\n",
        "scaler.fit(all_vectors)# cần xem xét\n",
        "# Split the data into training and testing\n",
        "X_train, X_test, y_train, y_test = model_selection.train_test_split(scaler.transform(all_vectors), all_labels, test_size=0.2, shuffle=True)\n",
        "#from: https://dagster.io/glossary/dataset-splitting"
      ],
      "metadata": {
        "id": "B6_pbP8tdTZR"
      },
      "execution_count": 40,
      "outputs": []
    },
    {
      "cell_type": "code",
      "source": [
        "print(\"Training data size (X_train):\" + str(X_train.shape))\n",
        "print(\"Testing data size (X_test):\" + str(X_test.shape))\n",
        "print(\"Training labels size (y_train):\" + str(np.array(y_train).shape))\n",
        "print(\"Testing labels size (y_test):\" + str(np.array(y_test).shape))"
      ],
      "metadata": {
        "id": "DmQ5mmv-Pqk4",
        "outputId": "8a5581ce-37a9-4227-a57d-8d50e27b7a48",
        "colab": {
          "base_uri": "https://localhost:8080/"
        }
      },
      "execution_count": 43,
      "outputs": [
        {
          "output_type": "stream",
          "name": "stdout",
          "text": [
            "Training data size (X_train):(6565, 1429)\n",
            "Testing data size (X_test):(1642, 1429)\n",
            "Training labels size (y_train):(6565,)\n",
            "Testing labels size (y_test):(1642,)\n"
          ]
        }
      ]
    },
    {
      "cell_type": "markdown",
      "source": [
        "#Classification"
      ],
      "metadata": {
        "id": "EDQ0WAcNK4Jk"
      }
    },
    {
      "cell_type": "markdown",
      "source": [
        "##Random Forest"
      ],
      "metadata": {
        "id": "V9JKyi-3gxfP"
      }
    },
    {
      "cell_type": "code",
      "source": [
        "rf = ensemble.RandomForestClassifier()\n",
        "#rf = make_pipeline(StandardScaler(), RandomForestClassifier())\n",
        "rf.fit(X_train, y_train)"
      ],
      "metadata": {
        "id": "ri4Rd4omYFgp",
        "outputId": "de6beb32-09ec-490f-a896-7dc2bbe24c11",
        "colab": {
          "base_uri": "https://localhost:8080/",
          "height": 80
        }
      },
      "execution_count": 44,
      "outputs": [
        {
          "output_type": "execute_result",
          "data": {
            "text/plain": [
              "RandomForestClassifier()"
            ],
            "text/html": [
              "<style>#sk-container-id-1 {\n",
              "  /* Definition of color scheme common for light and dark mode */\n",
              "  --sklearn-color-text: #000;\n",
              "  --sklearn-color-text-muted: #666;\n",
              "  --sklearn-color-line: gray;\n",
              "  /* Definition of color scheme for unfitted estimators */\n",
              "  --sklearn-color-unfitted-level-0: #fff5e6;\n",
              "  --sklearn-color-unfitted-level-1: #f6e4d2;\n",
              "  --sklearn-color-unfitted-level-2: #ffe0b3;\n",
              "  --sklearn-color-unfitted-level-3: chocolate;\n",
              "  /* Definition of color scheme for fitted estimators */\n",
              "  --sklearn-color-fitted-level-0: #f0f8ff;\n",
              "  --sklearn-color-fitted-level-1: #d4ebff;\n",
              "  --sklearn-color-fitted-level-2: #b3dbfd;\n",
              "  --sklearn-color-fitted-level-3: cornflowerblue;\n",
              "\n",
              "  /* Specific color for light theme */\n",
              "  --sklearn-color-text-on-default-background: var(--sg-text-color, var(--theme-code-foreground, var(--jp-content-font-color1, black)));\n",
              "  --sklearn-color-background: var(--sg-background-color, var(--theme-background, var(--jp-layout-color0, white)));\n",
              "  --sklearn-color-border-box: var(--sg-text-color, var(--theme-code-foreground, var(--jp-content-font-color1, black)));\n",
              "  --sklearn-color-icon: #696969;\n",
              "\n",
              "  @media (prefers-color-scheme: dark) {\n",
              "    /* Redefinition of color scheme for dark theme */\n",
              "    --sklearn-color-text-on-default-background: var(--sg-text-color, var(--theme-code-foreground, var(--jp-content-font-color1, white)));\n",
              "    --sklearn-color-background: var(--sg-background-color, var(--theme-background, var(--jp-layout-color0, #111)));\n",
              "    --sklearn-color-border-box: var(--sg-text-color, var(--theme-code-foreground, var(--jp-content-font-color1, white)));\n",
              "    --sklearn-color-icon: #878787;\n",
              "  }\n",
              "}\n",
              "\n",
              "#sk-container-id-1 {\n",
              "  color: var(--sklearn-color-text);\n",
              "}\n",
              "\n",
              "#sk-container-id-1 pre {\n",
              "  padding: 0;\n",
              "}\n",
              "\n",
              "#sk-container-id-1 input.sk-hidden--visually {\n",
              "  border: 0;\n",
              "  clip: rect(1px 1px 1px 1px);\n",
              "  clip: rect(1px, 1px, 1px, 1px);\n",
              "  height: 1px;\n",
              "  margin: -1px;\n",
              "  overflow: hidden;\n",
              "  padding: 0;\n",
              "  position: absolute;\n",
              "  width: 1px;\n",
              "}\n",
              "\n",
              "#sk-container-id-1 div.sk-dashed-wrapped {\n",
              "  border: 1px dashed var(--sklearn-color-line);\n",
              "  margin: 0 0.4em 0.5em 0.4em;\n",
              "  box-sizing: border-box;\n",
              "  padding-bottom: 0.4em;\n",
              "  background-color: var(--sklearn-color-background);\n",
              "}\n",
              "\n",
              "#sk-container-id-1 div.sk-container {\n",
              "  /* jupyter's `normalize.less` sets `[hidden] { display: none; }`\n",
              "     but bootstrap.min.css set `[hidden] { display: none !important; }`\n",
              "     so we also need the `!important` here to be able to override the\n",
              "     default hidden behavior on the sphinx rendered scikit-learn.org.\n",
              "     See: https://github.com/scikit-learn/scikit-learn/issues/21755 */\n",
              "  display: inline-block !important;\n",
              "  position: relative;\n",
              "}\n",
              "\n",
              "#sk-container-id-1 div.sk-text-repr-fallback {\n",
              "  display: none;\n",
              "}\n",
              "\n",
              "div.sk-parallel-item,\n",
              "div.sk-serial,\n",
              "div.sk-item {\n",
              "  /* draw centered vertical line to link estimators */\n",
              "  background-image: linear-gradient(var(--sklearn-color-text-on-default-background), var(--sklearn-color-text-on-default-background));\n",
              "  background-size: 2px 100%;\n",
              "  background-repeat: no-repeat;\n",
              "  background-position: center center;\n",
              "}\n",
              "\n",
              "/* Parallel-specific style estimator block */\n",
              "\n",
              "#sk-container-id-1 div.sk-parallel-item::after {\n",
              "  content: \"\";\n",
              "  width: 100%;\n",
              "  border-bottom: 2px solid var(--sklearn-color-text-on-default-background);\n",
              "  flex-grow: 1;\n",
              "}\n",
              "\n",
              "#sk-container-id-1 div.sk-parallel {\n",
              "  display: flex;\n",
              "  align-items: stretch;\n",
              "  justify-content: center;\n",
              "  background-color: var(--sklearn-color-background);\n",
              "  position: relative;\n",
              "}\n",
              "\n",
              "#sk-container-id-1 div.sk-parallel-item {\n",
              "  display: flex;\n",
              "  flex-direction: column;\n",
              "}\n",
              "\n",
              "#sk-container-id-1 div.sk-parallel-item:first-child::after {\n",
              "  align-self: flex-end;\n",
              "  width: 50%;\n",
              "}\n",
              "\n",
              "#sk-container-id-1 div.sk-parallel-item:last-child::after {\n",
              "  align-self: flex-start;\n",
              "  width: 50%;\n",
              "}\n",
              "\n",
              "#sk-container-id-1 div.sk-parallel-item:only-child::after {\n",
              "  width: 0;\n",
              "}\n",
              "\n",
              "/* Serial-specific style estimator block */\n",
              "\n",
              "#sk-container-id-1 div.sk-serial {\n",
              "  display: flex;\n",
              "  flex-direction: column;\n",
              "  align-items: center;\n",
              "  background-color: var(--sklearn-color-background);\n",
              "  padding-right: 1em;\n",
              "  padding-left: 1em;\n",
              "}\n",
              "\n",
              "\n",
              "/* Toggleable style: style used for estimator/Pipeline/ColumnTransformer box that is\n",
              "clickable and can be expanded/collapsed.\n",
              "- Pipeline and ColumnTransformer use this feature and define the default style\n",
              "- Estimators will overwrite some part of the style using the `sk-estimator` class\n",
              "*/\n",
              "\n",
              "/* Pipeline and ColumnTransformer style (default) */\n",
              "\n",
              "#sk-container-id-1 div.sk-toggleable {\n",
              "  /* Default theme specific background. It is overwritten whether we have a\n",
              "  specific estimator or a Pipeline/ColumnTransformer */\n",
              "  background-color: var(--sklearn-color-background);\n",
              "}\n",
              "\n",
              "/* Toggleable label */\n",
              "#sk-container-id-1 label.sk-toggleable__label {\n",
              "  cursor: pointer;\n",
              "  display: flex;\n",
              "  width: 100%;\n",
              "  margin-bottom: 0;\n",
              "  padding: 0.5em;\n",
              "  box-sizing: border-box;\n",
              "  text-align: center;\n",
              "  align-items: start;\n",
              "  justify-content: space-between;\n",
              "  gap: 0.5em;\n",
              "}\n",
              "\n",
              "#sk-container-id-1 label.sk-toggleable__label .caption {\n",
              "  font-size: 0.6rem;\n",
              "  font-weight: lighter;\n",
              "  color: var(--sklearn-color-text-muted);\n",
              "}\n",
              "\n",
              "#sk-container-id-1 label.sk-toggleable__label-arrow:before {\n",
              "  /* Arrow on the left of the label */\n",
              "  content: \"▸\";\n",
              "  float: left;\n",
              "  margin-right: 0.25em;\n",
              "  color: var(--sklearn-color-icon);\n",
              "}\n",
              "\n",
              "#sk-container-id-1 label.sk-toggleable__label-arrow:hover:before {\n",
              "  color: var(--sklearn-color-text);\n",
              "}\n",
              "\n",
              "/* Toggleable content - dropdown */\n",
              "\n",
              "#sk-container-id-1 div.sk-toggleable__content {\n",
              "  max-height: 0;\n",
              "  max-width: 0;\n",
              "  overflow: hidden;\n",
              "  text-align: left;\n",
              "  /* unfitted */\n",
              "  background-color: var(--sklearn-color-unfitted-level-0);\n",
              "}\n",
              "\n",
              "#sk-container-id-1 div.sk-toggleable__content.fitted {\n",
              "  /* fitted */\n",
              "  background-color: var(--sklearn-color-fitted-level-0);\n",
              "}\n",
              "\n",
              "#sk-container-id-1 div.sk-toggleable__content pre {\n",
              "  margin: 0.2em;\n",
              "  border-radius: 0.25em;\n",
              "  color: var(--sklearn-color-text);\n",
              "  /* unfitted */\n",
              "  background-color: var(--sklearn-color-unfitted-level-0);\n",
              "}\n",
              "\n",
              "#sk-container-id-1 div.sk-toggleable__content.fitted pre {\n",
              "  /* unfitted */\n",
              "  background-color: var(--sklearn-color-fitted-level-0);\n",
              "}\n",
              "\n",
              "#sk-container-id-1 input.sk-toggleable__control:checked~div.sk-toggleable__content {\n",
              "  /* Expand drop-down */\n",
              "  max-height: 200px;\n",
              "  max-width: 100%;\n",
              "  overflow: auto;\n",
              "}\n",
              "\n",
              "#sk-container-id-1 input.sk-toggleable__control:checked~label.sk-toggleable__label-arrow:before {\n",
              "  content: \"▾\";\n",
              "}\n",
              "\n",
              "/* Pipeline/ColumnTransformer-specific style */\n",
              "\n",
              "#sk-container-id-1 div.sk-label input.sk-toggleable__control:checked~label.sk-toggleable__label {\n",
              "  color: var(--sklearn-color-text);\n",
              "  background-color: var(--sklearn-color-unfitted-level-2);\n",
              "}\n",
              "\n",
              "#sk-container-id-1 div.sk-label.fitted input.sk-toggleable__control:checked~label.sk-toggleable__label {\n",
              "  background-color: var(--sklearn-color-fitted-level-2);\n",
              "}\n",
              "\n",
              "/* Estimator-specific style */\n",
              "\n",
              "/* Colorize estimator box */\n",
              "#sk-container-id-1 div.sk-estimator input.sk-toggleable__control:checked~label.sk-toggleable__label {\n",
              "  /* unfitted */\n",
              "  background-color: var(--sklearn-color-unfitted-level-2);\n",
              "}\n",
              "\n",
              "#sk-container-id-1 div.sk-estimator.fitted input.sk-toggleable__control:checked~label.sk-toggleable__label {\n",
              "  /* fitted */\n",
              "  background-color: var(--sklearn-color-fitted-level-2);\n",
              "}\n",
              "\n",
              "#sk-container-id-1 div.sk-label label.sk-toggleable__label,\n",
              "#sk-container-id-1 div.sk-label label {\n",
              "  /* The background is the default theme color */\n",
              "  color: var(--sklearn-color-text-on-default-background);\n",
              "}\n",
              "\n",
              "/* On hover, darken the color of the background */\n",
              "#sk-container-id-1 div.sk-label:hover label.sk-toggleable__label {\n",
              "  color: var(--sklearn-color-text);\n",
              "  background-color: var(--sklearn-color-unfitted-level-2);\n",
              "}\n",
              "\n",
              "/* Label box, darken color on hover, fitted */\n",
              "#sk-container-id-1 div.sk-label.fitted:hover label.sk-toggleable__label.fitted {\n",
              "  color: var(--sklearn-color-text);\n",
              "  background-color: var(--sklearn-color-fitted-level-2);\n",
              "}\n",
              "\n",
              "/* Estimator label */\n",
              "\n",
              "#sk-container-id-1 div.sk-label label {\n",
              "  font-family: monospace;\n",
              "  font-weight: bold;\n",
              "  display: inline-block;\n",
              "  line-height: 1.2em;\n",
              "}\n",
              "\n",
              "#sk-container-id-1 div.sk-label-container {\n",
              "  text-align: center;\n",
              "}\n",
              "\n",
              "/* Estimator-specific */\n",
              "#sk-container-id-1 div.sk-estimator {\n",
              "  font-family: monospace;\n",
              "  border: 1px dotted var(--sklearn-color-border-box);\n",
              "  border-radius: 0.25em;\n",
              "  box-sizing: border-box;\n",
              "  margin-bottom: 0.5em;\n",
              "  /* unfitted */\n",
              "  background-color: var(--sklearn-color-unfitted-level-0);\n",
              "}\n",
              "\n",
              "#sk-container-id-1 div.sk-estimator.fitted {\n",
              "  /* fitted */\n",
              "  background-color: var(--sklearn-color-fitted-level-0);\n",
              "}\n",
              "\n",
              "/* on hover */\n",
              "#sk-container-id-1 div.sk-estimator:hover {\n",
              "  /* unfitted */\n",
              "  background-color: var(--sklearn-color-unfitted-level-2);\n",
              "}\n",
              "\n",
              "#sk-container-id-1 div.sk-estimator.fitted:hover {\n",
              "  /* fitted */\n",
              "  background-color: var(--sklearn-color-fitted-level-2);\n",
              "}\n",
              "\n",
              "/* Specification for estimator info (e.g. \"i\" and \"?\") */\n",
              "\n",
              "/* Common style for \"i\" and \"?\" */\n",
              "\n",
              ".sk-estimator-doc-link,\n",
              "a:link.sk-estimator-doc-link,\n",
              "a:visited.sk-estimator-doc-link {\n",
              "  float: right;\n",
              "  font-size: smaller;\n",
              "  line-height: 1em;\n",
              "  font-family: monospace;\n",
              "  background-color: var(--sklearn-color-background);\n",
              "  border-radius: 1em;\n",
              "  height: 1em;\n",
              "  width: 1em;\n",
              "  text-decoration: none !important;\n",
              "  margin-left: 0.5em;\n",
              "  text-align: center;\n",
              "  /* unfitted */\n",
              "  border: var(--sklearn-color-unfitted-level-1) 1pt solid;\n",
              "  color: var(--sklearn-color-unfitted-level-1);\n",
              "}\n",
              "\n",
              ".sk-estimator-doc-link.fitted,\n",
              "a:link.sk-estimator-doc-link.fitted,\n",
              "a:visited.sk-estimator-doc-link.fitted {\n",
              "  /* fitted */\n",
              "  border: var(--sklearn-color-fitted-level-1) 1pt solid;\n",
              "  color: var(--sklearn-color-fitted-level-1);\n",
              "}\n",
              "\n",
              "/* On hover */\n",
              "div.sk-estimator:hover .sk-estimator-doc-link:hover,\n",
              ".sk-estimator-doc-link:hover,\n",
              "div.sk-label-container:hover .sk-estimator-doc-link:hover,\n",
              ".sk-estimator-doc-link:hover {\n",
              "  /* unfitted */\n",
              "  background-color: var(--sklearn-color-unfitted-level-3);\n",
              "  color: var(--sklearn-color-background);\n",
              "  text-decoration: none;\n",
              "}\n",
              "\n",
              "div.sk-estimator.fitted:hover .sk-estimator-doc-link.fitted:hover,\n",
              ".sk-estimator-doc-link.fitted:hover,\n",
              "div.sk-label-container:hover .sk-estimator-doc-link.fitted:hover,\n",
              ".sk-estimator-doc-link.fitted:hover {\n",
              "  /* fitted */\n",
              "  background-color: var(--sklearn-color-fitted-level-3);\n",
              "  color: var(--sklearn-color-background);\n",
              "  text-decoration: none;\n",
              "}\n",
              "\n",
              "/* Span, style for the box shown on hovering the info icon */\n",
              ".sk-estimator-doc-link span {\n",
              "  display: none;\n",
              "  z-index: 9999;\n",
              "  position: relative;\n",
              "  font-weight: normal;\n",
              "  right: .2ex;\n",
              "  padding: .5ex;\n",
              "  margin: .5ex;\n",
              "  width: min-content;\n",
              "  min-width: 20ex;\n",
              "  max-width: 50ex;\n",
              "  color: var(--sklearn-color-text);\n",
              "  box-shadow: 2pt 2pt 4pt #999;\n",
              "  /* unfitted */\n",
              "  background: var(--sklearn-color-unfitted-level-0);\n",
              "  border: .5pt solid var(--sklearn-color-unfitted-level-3);\n",
              "}\n",
              "\n",
              ".sk-estimator-doc-link.fitted span {\n",
              "  /* fitted */\n",
              "  background: var(--sklearn-color-fitted-level-0);\n",
              "  border: var(--sklearn-color-fitted-level-3);\n",
              "}\n",
              "\n",
              ".sk-estimator-doc-link:hover span {\n",
              "  display: block;\n",
              "}\n",
              "\n",
              "/* \"?\"-specific style due to the `<a>` HTML tag */\n",
              "\n",
              "#sk-container-id-1 a.estimator_doc_link {\n",
              "  float: right;\n",
              "  font-size: 1rem;\n",
              "  line-height: 1em;\n",
              "  font-family: monospace;\n",
              "  background-color: var(--sklearn-color-background);\n",
              "  border-radius: 1rem;\n",
              "  height: 1rem;\n",
              "  width: 1rem;\n",
              "  text-decoration: none;\n",
              "  /* unfitted */\n",
              "  color: var(--sklearn-color-unfitted-level-1);\n",
              "  border: var(--sklearn-color-unfitted-level-1) 1pt solid;\n",
              "}\n",
              "\n",
              "#sk-container-id-1 a.estimator_doc_link.fitted {\n",
              "  /* fitted */\n",
              "  border: var(--sklearn-color-fitted-level-1) 1pt solid;\n",
              "  color: var(--sklearn-color-fitted-level-1);\n",
              "}\n",
              "\n",
              "/* On hover */\n",
              "#sk-container-id-1 a.estimator_doc_link:hover {\n",
              "  /* unfitted */\n",
              "  background-color: var(--sklearn-color-unfitted-level-3);\n",
              "  color: var(--sklearn-color-background);\n",
              "  text-decoration: none;\n",
              "}\n",
              "\n",
              "#sk-container-id-1 a.estimator_doc_link.fitted:hover {\n",
              "  /* fitted */\n",
              "  background-color: var(--sklearn-color-fitted-level-3);\n",
              "}\n",
              "</style><div id=\"sk-container-id-1\" class=\"sk-top-container\"><div class=\"sk-text-repr-fallback\"><pre>RandomForestClassifier()</pre><b>In a Jupyter environment, please rerun this cell to show the HTML representation or trust the notebook. <br />On GitHub, the HTML representation is unable to render, please try loading this page with nbviewer.org.</b></div><div class=\"sk-container\" hidden><div class=\"sk-item\"><div class=\"sk-estimator fitted sk-toggleable\"><input class=\"sk-toggleable__control sk-hidden--visually\" id=\"sk-estimator-id-1\" type=\"checkbox\" checked><label for=\"sk-estimator-id-1\" class=\"sk-toggleable__label fitted sk-toggleable__label-arrow\"><div><div>RandomForestClassifier</div></div><div><a class=\"sk-estimator-doc-link fitted\" rel=\"noreferrer\" target=\"_blank\" href=\"https://scikit-learn.org/1.6/modules/generated/sklearn.ensemble.RandomForestClassifier.html\">?<span>Documentation for RandomForestClassifier</span></a><span class=\"sk-estimator-doc-link fitted\">i<span>Fitted</span></span></div></label><div class=\"sk-toggleable__content fitted\"><pre>RandomForestClassifier()</pre></div> </div></div></div></div>"
            ]
          },
          "metadata": {},
          "execution_count": 44
        }
      ]
    },
    {
      "cell_type": "code",
      "source": [
        "y_pred = rf.predict(X_test)\n",
        "\n",
        "rfc_accuracy = metrics.accuracy_score(y_test, y_pred)\n",
        "rfc_precision = metrics.precision_score(y_test, y_pred)\n",
        "rfc_recall = metrics.recall_score(y_test, y_pred)\n",
        "\n",
        "print(\"Accuracy:\", rfc_accuracy)\n",
        "print(\"Precision:\", rfc_precision)\n",
        "print(\"Recall:\", rfc_recall)"
      ],
      "metadata": {
        "id": "Srf9IHHTYl4w",
        "outputId": "2bbb603c-5fc4-4fec-e62a-5805fc24c338",
        "colab": {
          "base_uri": "https://localhost:8080/"
        }
      },
      "execution_count": 45,
      "outputs": [
        {
          "output_type": "stream",
          "name": "stdout",
          "text": [
            "Accuracy: 0.9933008526187577\n",
            "Precision: 0.9974683544303797\n",
            "Recall: 0.9887076537013801\n"
          ]
        }
      ]
    },
    {
      "cell_type": "code",
      "source": [
        "cm = metrics.confusion_matrix(y_test, y_pred)\n",
        "metrics.ConfusionMatrixDisplay(confusion_matrix=cm).plot()"
      ],
      "metadata": {
        "id": "I9x9Z757aI1I",
        "outputId": "d5449c78-84b7-4f5c-9d98-02325a9081f4",
        "colab": {
          "base_uri": "https://localhost:8080/",
          "height": 466
        }
      },
      "execution_count": 47,
      "outputs": [
        {
          "output_type": "execute_result",
          "data": {
            "text/plain": [
              "<sklearn.metrics._plot.confusion_matrix.ConfusionMatrixDisplay at 0x796c87df15a0>"
            ]
          },
          "metadata": {},
          "execution_count": 47
        },
        {
          "output_type": "display_data",
          "data": {
            "text/plain": [
              "<Figure size 640x480 with 2 Axes>"
            ],
            "image/png": "[encoded data removed]"
          },
          "metadata": {}
        }
      ]
    },
    {
      "cell_type": "markdown",
      "source": [
        "## RFC Prediction and Evaluation"
      ],
      "metadata": {
        "id": "9V9A56Z4wMYJ"
      }
    },
    {
      "cell_type": "code",
      "source": [
        "test_messages = extract_emails_from_mbox(\"/content/emails-enron-legal-mails.mbox\")\n",
        "test_message_bodies = [extract_content_email(message) for message in test_messages]\n",
        "# Apply preprocessing function to emails\n",
        "test_messages_preprocessed = custom_preprocessing(test_message_bodies)\n",
        "test_messages_corpus = [dictionary.doc2bow(text) for text in test_messages_preprocessed]"
      ],
      "metadata": {
        "id": "no0oniQ9ndkS"
      },
      "execution_count": 48,
      "outputs": []
    },
    {
      "cell_type": "code",
      "source": [
        "all_vector_test = create_vectors_from_messages(test_message_bodies, test_messages_preprocessed,test_messages_corpus)"
      ],
      "metadata": {
        "id": "5qX1yw4gvuRY"
      },
      "execution_count": 49,
      "outputs": []
    },
    {
      "cell_type": "code",
      "source": [
        "# RFC Prediction\n",
        "X = scaler.transform(all_vector_test)\n",
        "y_pred = rf.predict(X)\n",
        "\n",
        "num_phishing = 0\n",
        "for i in y_pred:\n",
        "  if i == 1:\n",
        "    num_phishing += 1\n",
        "\n",
        "print(\"Number of phishing emails:\", num_phishing)\n",
        "print(\"Number of benign emails:\", len(y_pred) - num_phishing)"
      ],
      "metadata": {
        "id": "P_jDt8n_9gv6",
        "outputId": "bdc8375f-11b6-417c-aed7-1bd92c3d2baf",
        "colab": {
          "base_uri": "https://localhost:8080/"
        }
      },
      "execution_count": 50,
      "outputs": [
        {
          "output_type": "stream",
          "name": "stdout",
          "text": [
            "Number of phishing emails: 8\n",
            "Number of benign emails: 4271\n"
          ]
        }
      ]
    },
    {
      "cell_type": "code",
      "source": [
        "email_labels = [0 for i in range(len(y_pred))]\n",
        "email_accuracy = metrics.accuracy_score(email_labels, y_pred)\n",
        "print(email_accuracy)"
      ],
      "metadata": {
        "id": "3QD831FFOddE",
        "outputId": "d1927e77-ddc8-4f48-ecf6-02b7682add11",
        "colab": {
          "base_uri": "https://localhost:8080/"
        }
      },
      "execution_count": 51,
      "outputs": [
        {
          "output_type": "stream",
          "name": "stdout",
          "text": [
            "0.9981304043000702\n"
          ]
        }
      ]
    },
    {
      "cell_type": "code",
      "source": [
        "#test\n",
        "print(test_message_bodies[100])\n",
        "print(test_messages_preprocessed[100])"
      ],
      "metadata": {
        "id": "g4p8P9jww2Np"
      },
      "execution_count": null,
      "outputs": []
    },
    {
      "cell_type": "code",
      "source": [
        "print(\"Shape of messages: {}\".format(np.array(all_vector_test).shape))"
      ],
      "metadata": {
        "id": "0iS5PObjw3_8",
        "outputId": "f568a817-cb05-4020-e885-2d1c5476fdf4",
        "colab": {
          "base_uri": "https://localhost:8080/"
        }
      },
      "execution_count": null,
      "outputs": [
        {
          "output_type": "stream",
          "name": "stdout",
          "text": [
            "Shape of messages: (4279, 1060)\n"
          ]
        }
      ]
    },
    {
      "cell_type": "markdown",
      "source": [
        "## SVC - Support Vector Classifier"
      ],
      "metadata": {
        "id": "_fkXWY5oBJnf"
      }
    },
    {
      "cell_type": "code",
      "source": [
        "svc = svm.SVC(gamma=\"auto\")\n",
        "svc.fit(X_train, y_train)"
      ],
      "metadata": {
        "id": "LNDTKkGO8vJw",
        "outputId": "a5a26afc-ea40-44a0-e45e-fc3b102c8958",
        "colab": {
          "base_uri": "https://localhost:8080/",
          "height": 80
        }
      },
      "execution_count": 53,
      "outputs": [
        {
          "output_type": "execute_result",
          "data": {
            "text/plain": [
              "SVC(gamma='auto')"
            ],
            "text/html": [
              "<style>#sk-container-id-2 {\n",
              "  /* Definition of color scheme common for light and dark mode */\n",
              "  --sklearn-color-text: #000;\n",
              "  --sklearn-color-text-muted: #666;\n",
              "  --sklearn-color-line: gray;\n",
              "  /* Definition of color scheme for unfitted estimators */\n",
              "  --sklearn-color-unfitted-level-0: #fff5e6;\n",
              "  --sklearn-color-unfitted-level-1: #f6e4d2;\n",
              "  --sklearn-color-unfitted-level-2: #ffe0b3;\n",
              "  --sklearn-color-unfitted-level-3: chocolate;\n",
              "  /* Definition of color scheme for fitted estimators */\n",
              "  --sklearn-color-fitted-level-0: #f0f8ff;\n",
              "  --sklearn-color-fitted-level-1: #d4ebff;\n",
              "  --sklearn-color-fitted-level-2: #b3dbfd;\n",
              "  --sklearn-color-fitted-level-3: cornflowerblue;\n",
              "\n",
              "  /* Specific color for light theme */\n",
              "  --sklearn-color-text-on-default-background: var(--sg-text-color, var(--theme-code-foreground, var(--jp-content-font-color1, black)));\n",
              "  --sklearn-color-background: var(--sg-background-color, var(--theme-background, var(--jp-layout-color0, white)));\n",
              "  --sklearn-color-border-box: var(--sg-text-color, var(--theme-code-foreground, var(--jp-content-font-color1, black)));\n",
              "  --sklearn-color-icon: #696969;\n",
              "\n",
              "  @media (prefers-color-scheme: dark) {\n",
              "    /* Redefinition of color scheme for dark theme */\n",
              "    --sklearn-color-text-on-default-background: var(--sg-text-color, var(--theme-code-foreground, var(--jp-content-font-color1, white)));\n",
              "    --sklearn-color-background: var(--sg-background-color, var(--theme-background, var(--jp-layout-color0, #111)));\n",
              "    --sklearn-color-border-box: var(--sg-text-color, var(--theme-code-foreground, var(--jp-content-font-color1, white)));\n",
              "    --sklearn-color-icon: #878787;\n",
              "  }\n",
              "}\n",
              "\n",
              "#sk-container-id-2 {\n",
              "  color: var(--sklearn-color-text);\n",
              "}\n",
              "\n",
              "#sk-container-id-2 pre {\n",
              "  padding: 0;\n",
              "}\n",
              "\n",
              "#sk-container-id-2 input.sk-hidden--visually {\n",
              "  border: 0;\n",
              "  clip: rect(1px 1px 1px 1px);\n",
              "  clip: rect(1px, 1px, 1px, 1px);\n",
              "  height: 1px;\n",
              "  margin: -1px;\n",
              "  overflow: hidden;\n",
              "  padding: 0;\n",
              "  position: absolute;\n",
              "  width: 1px;\n",
              "}\n",
              "\n",
              "#sk-container-id-2 div.sk-dashed-wrapped {\n",
              "  border: 1px dashed var(--sklearn-color-line);\n",
              "  margin: 0 0.4em 0.5em 0.4em;\n",
              "  box-sizing: border-box;\n",
              "  padding-bottom: 0.4em;\n",
              "  background-color: var(--sklearn-color-background);\n",
              "}\n",
              "\n",
              "#sk-container-id-2 div.sk-container {\n",
              "  /* jupyter's `normalize.less` sets `[hidden] { display: none; }`\n",
              "     but bootstrap.min.css set `[hidden] { display: none !important; }`\n",
              "     so we also need the `!important` here to be able to override the\n",
              "     default hidden behavior on the sphinx rendered scikit-learn.org.\n",
              "     See: https://github.com/scikit-learn/scikit-learn/issues/21755 */\n",
              "  display: inline-block !important;\n",
              "  position: relative;\n",
              "}\n",
              "\n",
              "#sk-container-id-2 div.sk-text-repr-fallback {\n",
              "  display: none;\n",
              "}\n",
              "\n",
              "div.sk-parallel-item,\n",
              "div.sk-serial,\n",
              "div.sk-item {\n",
              "  /* draw centered vertical line to link estimators */\n",
              "  background-image: linear-gradient(var(--sklearn-color-text-on-default-background), var(--sklearn-color-text-on-default-background));\n",
              "  background-size: 2px 100%;\n",
              "  background-repeat: no-repeat;\n",
              "  background-position: center center;\n",
              "}\n",
              "\n",
              "/* Parallel-specific style estimator block */\n",
              "\n",
              "#sk-container-id-2 div.sk-parallel-item::after {\n",
              "  content: \"\";\n",
              "  width: 100%;\n",
              "  border-bottom: 2px solid var(--sklearn-color-text-on-default-background);\n",
              "  flex-grow: 1;\n",
              "}\n",
              "\n",
              "#sk-container-id-2 div.sk-parallel {\n",
              "  display: flex;\n",
              "  align-items: stretch;\n",
              "  justify-content: center;\n",
              "  background-color: var(--sklearn-color-background);\n",
              "  position: relative;\n",
              "}\n",
              "\n",
              "#sk-container-id-2 div.sk-parallel-item {\n",
              "  display: flex;\n",
              "  flex-direction: column;\n",
              "}\n",
              "\n",
              "#sk-container-id-2 div.sk-parallel-item:first-child::after {\n",
              "  align-self: flex-end;\n",
              "  width: 50%;\n",
              "}\n",
              "\n",
              "#sk-container-id-2 div.sk-parallel-item:last-child::after {\n",
              "  align-self: flex-start;\n",
              "  width: 50%;\n",
              "}\n",
              "\n",
              "#sk-container-id-2 div.sk-parallel-item:only-child::after {\n",
              "  width: 0;\n",
              "}\n",
              "\n",
              "/* Serial-specific style estimator block */\n",
              "\n",
              "#sk-container-id-2 div.sk-serial {\n",
              "  display: flex;\n",
              "  flex-direction: column;\n",
              "  align-items: center;\n",
              "  background-color: var(--sklearn-color-background);\n",
              "  padding-right: 1em;\n",
              "  padding-left: 1em;\n",
              "}\n",
              "\n",
              "\n",
              "/* Toggleable style: style used for estimator/Pipeline/ColumnTransformer box that is\n",
              "clickable and can be expanded/collapsed.\n",
              "- Pipeline and ColumnTransformer use this feature and define the default style\n",
              "- Estimators will overwrite some part of the style using the `sk-estimator` class\n",
              "*/\n",
              "\n",
              "/* Pipeline and ColumnTransformer style (default) */\n",
              "\n",
              "#sk-container-id-2 div.sk-toggleable {\n",
              "  /* Default theme specific background. It is overwritten whether we have a\n",
              "  specific estimator or a Pipeline/ColumnTransformer */\n",
              "  background-color: var(--sklearn-color-background);\n",
              "}\n",
              "\n",
              "/* Toggleable label */\n",
              "#sk-container-id-2 label.sk-toggleable__label {\n",
              "  cursor: pointer;\n",
              "  display: flex;\n",
              "  width: 100%;\n",
              "  margin-bottom: 0;\n",
              "  padding: 0.5em;\n",
              "  box-sizing: border-box;\n",
              "  text-align: center;\n",
              "  align-items: start;\n",
              "  justify-content: space-between;\n",
              "  gap: 0.5em;\n",
              "}\n",
              "\n",
              "#sk-container-id-2 label.sk-toggleable__label .caption {\n",
              "  font-size: 0.6rem;\n",
              "  font-weight: lighter;\n",
              "  color: var(--sklearn-color-text-muted);\n",
              "}\n",
              "\n",
              "#sk-container-id-2 label.sk-toggleable__label-arrow:before {\n",
              "  /* Arrow on the left of the label */\n",
              "  content: \"▸\";\n",
              "  float: left;\n",
              "  margin-right: 0.25em;\n",
              "  color: var(--sklearn-color-icon);\n",
              "}\n",
              "\n",
              "#sk-container-id-2 label.sk-toggleable__label-arrow:hover:before {\n",
              "  color: var(--sklearn-color-text);\n",
              "}\n",
              "\n",
              "/* Toggleable content - dropdown */\n",
              "\n",
              "#sk-container-id-2 div.sk-toggleable__content {\n",
              "  max-height: 0;\n",
              "  max-width: 0;\n",
              "  overflow: hidden;\n",
              "  text-align: left;\n",
              "  /* unfitted */\n",
              "  background-color: var(--sklearn-color-unfitted-level-0);\n",
              "}\n",
              "\n",
              "#sk-container-id-2 div.sk-toggleable__content.fitted {\n",
              "  /* fitted */\n",
              "  background-color: var(--sklearn-color-fitted-level-0);\n",
              "}\n",
              "\n",
              "#sk-container-id-2 div.sk-toggleable__content pre {\n",
              "  margin: 0.2em;\n",
              "  border-radius: 0.25em;\n",
              "  color: var(--sklearn-color-text);\n",
              "  /* unfitted */\n",
              "  background-color: var(--sklearn-color-unfitted-level-0);\n",
              "}\n",
              "\n",
              "#sk-container-id-2 div.sk-toggleable__content.fitted pre {\n",
              "  /* unfitted */\n",
              "  background-color: var(--sklearn-color-fitted-level-0);\n",
              "}\n",
              "\n",
              "#sk-container-id-2 input.sk-toggleable__control:checked~div.sk-toggleable__content {\n",
              "  /* Expand drop-down */\n",
              "  max-height: 200px;\n",
              "  max-width: 100%;\n",
              "  overflow: auto;\n",
              "}\n",
              "\n",
              "#sk-container-id-2 input.sk-toggleable__control:checked~label.sk-toggleable__label-arrow:before {\n",
              "  content: \"▾\";\n",
              "}\n",
              "\n",
              "/* Pipeline/ColumnTransformer-specific style */\n",
              "\n",
              "#sk-container-id-2 div.sk-label input.sk-toggleable__control:checked~label.sk-toggleable__label {\n",
              "  color: var(--sklearn-color-text);\n",
              "  background-color: var(--sklearn-color-unfitted-level-2);\n",
              "}\n",
              "\n",
              "#sk-container-id-2 div.sk-label.fitted input.sk-toggleable__control:checked~label.sk-toggleable__label {\n",
              "  background-color: var(--sklearn-color-fitted-level-2);\n",
              "}\n",
              "\n",
              "/* Estimator-specific style */\n",
              "\n",
              "/* Colorize estimator box */\n",
              "#sk-container-id-2 div.sk-estimator input.sk-toggleable__control:checked~label.sk-toggleable__label {\n",
              "  /* unfitted */\n",
              "  background-color: var(--sklearn-color-unfitted-level-2);\n",
              "}\n",
              "\n",
              "#sk-container-id-2 div.sk-estimator.fitted input.sk-toggleable__control:checked~label.sk-toggleable__label {\n",
              "  /* fitted */\n",
              "  background-color: var(--sklearn-color-fitted-level-2);\n",
              "}\n",
              "\n",
              "#sk-container-id-2 div.sk-label label.sk-toggleable__label,\n",
              "#sk-container-id-2 div.sk-label label {\n",
              "  /* The background is the default theme color */\n",
              "  color: var(--sklearn-color-text-on-default-background);\n",
              "}\n",
              "\n",
              "/* On hover, darken the color of the background */\n",
              "#sk-container-id-2 div.sk-label:hover label.sk-toggleable__label {\n",
              "  color: var(--sklearn-color-text);\n",
              "  background-color: var(--sklearn-color-unfitted-level-2);\n",
              "}\n",
              "\n",
              "/* Label box, darken color on hover, fitted */\n",
              "#sk-container-id-2 div.sk-label.fitted:hover label.sk-toggleable__label.fitted {\n",
              "  color: var(--sklearn-color-text);\n",
              "  background-color: var(--sklearn-color-fitted-level-2);\n",
              "}\n",
              "\n",
              "/* Estimator label */\n",
              "\n",
              "#sk-container-id-2 div.sk-label label {\n",
              "  font-family: monospace;\n",
              "  font-weight: bold;\n",
              "  display: inline-block;\n",
              "  line-height: 1.2em;\n",
              "}\n",
              "\n",
              "#sk-container-id-2 div.sk-label-container {\n",
              "  text-align: center;\n",
              "}\n",
              "\n",
              "/* Estimator-specific */\n",
              "#sk-container-id-2 div.sk-estimator {\n",
              "  font-family: monospace;\n",
              "  border: 1px dotted var(--sklearn-color-border-box);\n",
              "  border-radius: 0.25em;\n",
              "  box-sizing: border-box;\n",
              "  margin-bottom: 0.5em;\n",
              "  /* unfitted */\n",
              "  background-color: var(--sklearn-color-unfitted-level-0);\n",
              "}\n",
              "\n",
              "#sk-container-id-2 div.sk-estimator.fitted {\n",
              "  /* fitted */\n",
              "  background-color: var(--sklearn-color-fitted-level-0);\n",
              "}\n",
              "\n",
              "/* on hover */\n",
              "#sk-container-id-2 div.sk-estimator:hover {\n",
              "  /* unfitted */\n",
              "  background-color: var(--sklearn-color-unfitted-level-2);\n",
              "}\n",
              "\n",
              "#sk-container-id-2 div.sk-estimator.fitted:hover {\n",
              "  /* fitted */\n",
              "  background-color: var(--sklearn-color-fitted-level-2);\n",
              "}\n",
              "\n",
              "/* Specification for estimator info (e.g. \"i\" and \"?\") */\n",
              "\n",
              "/* Common style for \"i\" and \"?\" */\n",
              "\n",
              ".sk-estimator-doc-link,\n",
              "a:link.sk-estimator-doc-link,\n",
              "a:visited.sk-estimator-doc-link {\n",
              "  float: right;\n",
              "  font-size: smaller;\n",
              "  line-height: 1em;\n",
              "  font-family: monospace;\n",
              "  background-color: var(--sklearn-color-background);\n",
              "  border-radius: 1em;\n",
              "  height: 1em;\n",
              "  width: 1em;\n",
              "  text-decoration: none !important;\n",
              "  margin-left: 0.5em;\n",
              "  text-align: center;\n",
              "  /* unfitted */\n",
              "  border: var(--sklearn-color-unfitted-level-1) 1pt solid;\n",
              "  color: var(--sklearn-color-unfitted-level-1);\n",
              "}\n",
              "\n",
              ".sk-estimator-doc-link.fitted,\n",
              "a:link.sk-estimator-doc-link.fitted,\n",
              "a:visited.sk-estimator-doc-link.fitted {\n",
              "  /* fitted */\n",
              "  border: var(--sklearn-color-fitted-level-1) 1pt solid;\n",
              "  color: var(--sklearn-color-fitted-level-1);\n",
              "}\n",
              "\n",
              "/* On hover */\n",
              "div.sk-estimator:hover .sk-estimator-doc-link:hover,\n",
              ".sk-estimator-doc-link:hover,\n",
              "div.sk-label-container:hover .sk-estimator-doc-link:hover,\n",
              ".sk-estimator-doc-link:hover {\n",
              "  /* unfitted */\n",
              "  background-color: var(--sklearn-color-unfitted-level-3);\n",
              "  color: var(--sklearn-color-background);\n",
              "  text-decoration: none;\n",
              "}\n",
              "\n",
              "div.sk-estimator.fitted:hover .sk-estimator-doc-link.fitted:hover,\n",
              ".sk-estimator-doc-link.fitted:hover,\n",
              "div.sk-label-container:hover .sk-estimator-doc-link.fitted:hover,\n",
              ".sk-estimator-doc-link.fitted:hover {\n",
              "  /* fitted */\n",
              "  background-color: var(--sklearn-color-fitted-level-3);\n",
              "  color: var(--sklearn-color-background);\n",
              "  text-decoration: none;\n",
              "}\n",
              "\n",
              "/* Span, style for the box shown on hovering the info icon */\n",
              ".sk-estimator-doc-link span {\n",
              "  display: none;\n",
              "  z-index: 9999;\n",
              "  position: relative;\n",
              "  font-weight: normal;\n",
              "  right: .2ex;\n",
              "  padding: .5ex;\n",
              "  margin: .5ex;\n",
              "  width: min-content;\n",
              "  min-width: 20ex;\n",
              "  max-width: 50ex;\n",
              "  color: var(--sklearn-color-text);\n",
              "  box-shadow: 2pt 2pt 4pt #999;\n",
              "  /* unfitted */\n",
              "  background: var(--sklearn-color-unfitted-level-0);\n",
              "  border: .5pt solid var(--sklearn-color-unfitted-level-3);\n",
              "}\n",
              "\n",
              ".sk-estimator-doc-link.fitted span {\n",
              "  /* fitted */\n",
              "  background: var(--sklearn-color-fitted-level-0);\n",
              "  border: var(--sklearn-color-fitted-level-3);\n",
              "}\n",
              "\n",
              ".sk-estimator-doc-link:hover span {\n",
              "  display: block;\n",
              "}\n",
              "\n",
              "/* \"?\"-specific style due to the `<a>` HTML tag */\n",
              "\n",
              "#sk-container-id-2 a.estimator_doc_link {\n",
              "  float: right;\n",
              "  font-size: 1rem;\n",
              "  line-height: 1em;\n",
              "  font-family: monospace;\n",
              "  background-color: var(--sklearn-color-background);\n",
              "  border-radius: 1rem;\n",
              "  height: 1rem;\n",
              "  width: 1rem;\n",
              "  text-decoration: none;\n",
              "  /* unfitted */\n",
              "  color: var(--sklearn-color-unfitted-level-1);\n",
              "  border: var(--sklearn-color-unfitted-level-1) 1pt solid;\n",
              "}\n",
              "\n",
              "#sk-container-id-2 a.estimator_doc_link.fitted {\n",
              "  /* fitted */\n",
              "  border: var(--sklearn-color-fitted-level-1) 1pt solid;\n",
              "  color: var(--sklearn-color-fitted-level-1);\n",
              "}\n",
              "\n",
              "/* On hover */\n",
              "#sk-container-id-2 a.estimator_doc_link:hover {\n",
              "  /* unfitted */\n",
              "  background-color: var(--sklearn-color-unfitted-level-3);\n",
              "  color: var(--sklearn-color-background);\n",
              "  text-decoration: none;\n",
              "}\n",
              "\n",
              "#sk-container-id-2 a.estimator_doc_link.fitted:hover {\n",
              "  /* fitted */\n",
              "  background-color: var(--sklearn-color-fitted-level-3);\n",
              "}\n",
              "</style><div id=\"sk-container-id-2\" class=\"sk-top-container\"><div class=\"sk-text-repr-fallback\"><pre>SVC(gamma=&#x27;auto&#x27;)</pre><b>In a Jupyter environment, please rerun this cell to show the HTML representation or trust the notebook. <br />On GitHub, the HTML representation is unable to render, please try loading this page with nbviewer.org.</b></div><div class=\"sk-container\" hidden><div class=\"sk-item\"><div class=\"sk-estimator fitted sk-toggleable\"><input class=\"sk-toggleable__control sk-hidden--visually\" id=\"sk-estimator-id-2\" type=\"checkbox\" checked><label for=\"sk-estimator-id-2\" class=\"sk-toggleable__label fitted sk-toggleable__label-arrow\"><div><div>SVC</div></div><div><a class=\"sk-estimator-doc-link fitted\" rel=\"noreferrer\" target=\"_blank\" href=\"https://scikit-learn.org/1.6/modules/generated/sklearn.svm.SVC.html\">?<span>Documentation for SVC</span></a><span class=\"sk-estimator-doc-link fitted\">i<span>Fitted</span></span></div></label><div class=\"sk-toggleable__content fitted\"><pre>SVC(gamma=&#x27;auto&#x27;)</pre></div> </div></div></div></div>"
            ]
          },
          "metadata": {},
          "execution_count": 53
        }
      ]
    },
    {
      "cell_type": "code",
      "source": [
        "y_pred = svc.predict(X_test)\n",
        "accuracy = metrics.accuracy_score(y_test, y_pred)\n",
        "precision = metrics.precision_score(y_test, y_pred)\n",
        "recall = metrics.recall_score(y_test, y_pred)\n",
        "\n",
        "print(\"Accuracy:\", accuracy)\n",
        "print(\"Precision:\", precision)\n",
        "print(\"Recall:\", recall)"
      ],
      "metadata": {
        "id": "-EKUmlaiH2R0",
        "outputId": "88327768-3d51-4f06-885b-701361849e06",
        "colab": {
          "base_uri": "https://localhost:8080/"
        }
      },
      "execution_count": 54,
      "outputs": [
        {
          "output_type": "stream",
          "name": "stdout",
          "text": [
            "Accuracy: 0.976857490864799\n",
            "Precision: 0.9986859395532195\n",
            "Recall: 0.9535759096612296\n"
          ]
        }
      ]
    },
    {
      "cell_type": "code",
      "source": [
        "cm = metrics.confusion_matrix(y_test, y_pred)\n",
        "metrics.ConfusionMatrixDisplay(confusion_matrix=cm).plot()"
      ],
      "metadata": {
        "id": "A_Hkxmm5MNRt",
        "outputId": "84623048-e4ed-4e50-c9ca-7ff755c384e0",
        "colab": {
          "base_uri": "https://localhost:8080/",
          "height": 466
        }
      },
      "execution_count": 55,
      "outputs": [
        {
          "output_type": "execute_result",
          "data": {
            "text/plain": [
              "<sklearn.metrics._plot.confusion_matrix.ConfusionMatrixDisplay at 0x796c57e115d0>"
            ]
          },
          "metadata": {},
          "execution_count": 55
        },
        {
          "output_type": "display_data",
          "data": {
            "text/plain": [
              "<Figure size 640x480 with 2 Axes>"
            ],
            "image/png": "[encoded data removed]"
          },
          "metadata": {}
        }
      ]
    },
    {
      "cell_type": "markdown",
      "source": [
        "##Deep Learning ConvNet (CNN)"
      ],
      "metadata": {
        "id": "psxGPyRRMXFT"
      }
    },
    {
      "cell_type": "markdown",
      "source": [
        "From: https://keras.io/examples/nlp/text_classification_from_scratch/"
      ],
      "metadata": {
        "id": "oUOOw_zSJRA1"
      }
    },
    {
      "cell_type": "code",
      "source": [
        "print(tf_config.list_physical_devices('GPU'))\n",
        "# tf_config.set_visible_devices([], 'GPU')"
      ],
      "metadata": {
        "id": "uqBpc4fXBbjH",
        "outputId": "b183af0d-514b-4a5f-85fc-1b9d00e8fade",
        "colab": {
          "base_uri": "https://localhost:8080/"
        }
      },
      "execution_count": 56,
      "outputs": [
        {
          "output_type": "stream",
          "name": "stdout",
          "text": [
            "[]\n"
          ]
        }
      ]
    },
    {
      "cell_type": "code",
      "source": [
        "input_shape = (1, len(X_train[0]), 1) # Batch size is the first number\n",
        "print(input_shape)\n",
        "\n",
        "# #Scale data\n",
        "# X_train = all_vectors\n",
        "# scaler = sk_preprocessing.StandardScaler()\n",
        "# scaler.fit(X_train)\n",
        "#Đã có scaler trong classification\n",
        "X_train = scaler.transform(all_vectors)\n",
        "\n",
        "X_train = np.reshape(X_train, (len(X_train), input_shape[1], input_shape[2]))\n",
        "\n",
        "print(X_train.shape)\n",
        "y_train = np.reshape(all_labels, (len(X_train), 1))\n",
        "\n",
        "#Split data\n",
        "X_train, X_test, y_train, y_test = model_selection.train_test_split(X_train, y_train, test_size=0.2, shuffle=True)\n",
        "print(X_train.shape, np.array(y_train).shape, X_test.shape, np.array(y_test).shape)"
      ],
      "metadata": {
        "id": "d9RpmaZxDO29",
        "outputId": "89ee3bfb-af1a-4751-ad11-19e105e4a140",
        "colab": {
          "base_uri": "https://localhost:8080/"
        }
      },
      "execution_count": 60,
      "outputs": [
        {
          "output_type": "stream",
          "name": "stdout",
          "text": [
            "(1, 1429, 1)\n",
            "(8207, 1429, 1)\n",
            "(6565, 1429, 1) (6565, 1) (1642, 1429, 1) (1642, 1)\n"
          ]
        }
      ]
    },
    {
      "cell_type": "code",
      "source": [
        "embedding_dim = 1024\n",
        "num_layers = 3\n",
        "inputs = tf_keras.Input(shape=input_shape[1:], dtype = \"float32\")\n",
        "x = tf_keras.layers.Conv1D(filters=embedding_dim, kernel_size=2,padding=\"valid\", activation=\"relu\", strides=3)(inputs)\n",
        "x = tf_keras.layers.Dropout(0.5)(x)\n",
        "x = tf_keras.layers.Conv1D(filters=embedding_dim, kernel_size=2,padding=\"valid\", activation=\"relu\", strides=3)(x)\n",
        "x = tf_keras.layers.Dropout(0.5)(x)\n",
        "x = tf_keras.layers.Conv1D(filters=embedding_dim, kernel_size=2,padding=\"valid\", activation=\"relu\", strides=3)(x)\n",
        "x = tf_keras.layers.GlobalMaxPooling1D()(x)\n",
        "x = tf_keras.layers.Dense(embedding_dim, activation=\"relu\")(x)\n",
        "x = tf_keras.layers.Dropout(0.5)(x)\n",
        "# We project onto a single unit output layer, and squash it with a sigmoid:\n",
        "predictions = tf_keras.layers.Dense(1, activation=\"sigmoid\", name=\"predictions\")(x)\n",
        "\n",
        "model = tf_keras.Model(inputs, predictions)\n",
        "# Compile the model with binary crossentropy loss and an adam optimizer.\n",
        "model.compile(loss=\"binary_crossentropy\", optimizer=\"adam\", metrics=[\"binary_accuracy\"])"
      ],
      "metadata": {
        "id": "Xlu3lB8gGVr7"
      },
      "execution_count": 61,
      "outputs": []
    },
    {
      "cell_type": "code",
      "source": [
        "epochs = 128\n",
        "\n",
        "history = model.fit(\n",
        "    X_train,\n",
        "    y_train,\n",
        "    validation_data=(X_test, y_test),\n",
        "    epochs=epochs\n",
        ")"
      ],
      "metadata": {
        "id": "fH1DMH-jMekk",
        "outputId": "918cc133-ff67-4d2d-d21d-ceb28e5c2aa9",
        "colab": {
          "base_uri": "https://localhost:8080/"
        }
      },
      "execution_count": null,
      "outputs": [
        {
          "output_type": "stream",
          "name": "stdout",
          "text": [
            "Epoch 1/128\n",
            "\u001b[1m206/206\u001b[0m \u001b[32m━━━━━━━━━━━━━━━━━━━━\u001b[0m\u001b[37m\u001b[0m \u001b[1m613s\u001b[0m 3s/step - binary_accuracy: 0.6878 - loss: 0.5669 - val_binary_accuracy: 0.9361 - val_loss: 0.1771\n",
            "Epoch 2/128\n",
            "\u001b[1m206/206\u001b[0m \u001b[32m━━━━━━━━━━━━━━━━━━━━\u001b[0m\u001b[37m\u001b[0m \u001b[1m596s\u001b[0m 3s/step - binary_accuracy: 0.9386 - loss: 0.1846 - val_binary_accuracy: 0.9312 - val_loss: 0.1950\n",
            "Epoch 3/128\n",
            "\u001b[1m 15/206\u001b[0m \u001b[32m━\u001b[0m\u001b[37m━━━━━━━━━━━━━━━━━━━\u001b[0m \u001b[1m8:22\u001b[0m 3s/step - binary_accuracy: 0.9024 - loss: 0.2334"
          ]
        }
      ]
    },
    {
      "cell_type": "markdown",
      "source": [
        "##CNN Prediction and Evaluation"
      ],
      "metadata": {
        "id": "9Q7TOAMVL73F"
      }
    },
    {
      "cell_type": "code",
      "source": [
        "\n",
        "X_test = scaler.transform(all_vector_test)\n",
        "y_pred = model.predict(X_test)"
      ],
      "metadata": {
        "id": "9deU01hYMxis"
      },
      "execution_count": null,
      "outputs": []
    },
    {
      "cell_type": "code",
      "source": [
        "y_pred_bin = []\n",
        "num_phishing_CNN = 0\n",
        "for i in y_pred:\n",
        "  if i >= 0.5:\n",
        "    y_pred_bin.append(1)\n",
        "    num_phishing_CNN += 1\n",
        "  else:\n",
        "    y_pred_bin.append(0)\n",
        "\n",
        "print(\"Number of phishing emails:\", num_phishing_CNN)\n",
        "print(\"Number of benign emails:\", len(y_pred) - num_phishing_CNN)"
      ],
      "metadata": {
        "id": "bw4g51OJNdQ_"
      },
      "execution_count": null,
      "outputs": []
    },
    {
      "cell_type": "code",
      "source": [
        "email_accuracy_CNN  = metrics.accuracy_score(email_labels, y_pred_bin)\n",
        "print(email_accuracy_CNN)"
      ],
      "metadata": {
        "id": "NvMURGmLOFss"
      },
      "execution_count": null,
      "outputs": []
    },
    {
      "cell_type": "markdown",
      "source": [
        "# Experiment Tracking"
      ],
      "metadata": {
        "id": "dlXkYb3IfShK"
      }
    },
    {
      "cell_type": "markdown",
      "source": [
        "## Functions: Save stats"
      ],
      "metadata": {
        "id": "eATOFxctfkUW"
      }
    },
    {
      "cell_type": "code",
      "source": [
        "def create_training_stats(num_topics,max_term, X_train, X_test,\n",
        "                          rfc_accuracy, rfc_recall, email_accuracy,\n",
        "                          embedding_dim, num_layers, history, email_accuracy_CNN):\n",
        "  \"\"\"\n",
        "  Tạo dictionary chứa số liệu thông kê từ kết quả huấn luyện.\n",
        "  Parameters:\n",
        "  - num_topics (int): Số lượng chủ đề.\n",
        "  - max_term (int): Số lượng từ tối đa trong mô hình TF-IDF.\n",
        "  - X_train (list): Dữ liệu huấn luyện.\n",
        "  - X_test (list): Dữ liệu kiểm tra.\n",
        "  - rfc_accuracy (float): Độ chính xác của mô hình RFC.\n",
        "  - rfc_recall (float): Độ hồi phục của mô hình RFC.\n",
        "  - email_accuracy (float): Độ chính xác của mô hình trên GMail (RFC).\n",
        "  - embedding_dim (int): Kích thước không gian nhúng của mô hình CNN.\n",
        "  - num_layers (int): Số lượng lớp trong mô hình CNN.\n",
        "  - history (History): Lịch sử huấn luyện của mô hình CNN.\n",
        "  - email_accuracy_CNN (float): Độ chính xác của mô hình CNN trên GMail.\n",
        "\n",
        "  Returns: dictionary chứa dữ liệu thống kê.\n",
        "  \"\"\"\n",
        "  stats_data ={\n",
        "      \"Num Topics\" : [num_topics],\n",
        "      \"TF-IDF Count\": [max_term],\n",
        "      \"Num Training\" : [len(X_train)],\n",
        "      \"Num Test\" : [len(X_test)],\n",
        "      \"RFC Test Accuracy\" : [rfc_accuracy],\n",
        "      \"RFC Test Recall\" : [rfc_recall],\n",
        "      \"RFC GMail Accuracy\" : [email_accuracy],\n",
        "      \"CNN Dim\" : [embedding_dim],\n",
        "      \"CNN Num Layers\" : [num_layers],\n",
        "      \"CNN Accuracy\" : [history.history[\"binary_accuracy\"][-1]],\n",
        "      \"CNN Validation Accuracy\" : [history.history[\"val_binary_accuracy\"][-1]],\n",
        "      \"CNN GMail Accuracy\" : [email_accuracy_CNN]\n",
        "      }\n",
        "  return stats_data\n",
        "\n",
        "\n",
        "def save_stats(stats_data, stats_file_name='stats_results.csv'):\n",
        "  \"\"\"\n",
        "  Lưu số liệu thống kê vào file CSV.\n",
        "\n",
        "  Parameters:\n",
        "  - stats (dict): Một dictionary chứa các kết quả cần lưu, ví dụ: {\"accuracy\": [0.95], \"loss\": [0.1]}.\n",
        "  - file_name (str): Tên file CSV nơi lưu kết quả. Mặc định là 'stats_results.csv'.\n",
        "\n",
        "  Returns: None\n",
        "  \"\"\"\n",
        "  data_frame = pd.DataFrame(stats_data)\n",
        "\n",
        "  if os.path.isfile(stats_file_name):\n",
        "    data_frame.to_csv(stats_file_name, mode='a', header=False, index=False)\n",
        "  else:\n",
        "    data_frame.to_csv(stats_file_name, mode='w', header=True, index=False)\n",
        "\n",
        "  print(f\"Stats saved to {stats_file_name}\")\n"
      ],
      "metadata": {
        "id": "HD4XwG6wPEVg"
      },
      "execution_count": null,
      "outputs": []
    },
    {
      "cell_type": "markdown",
      "source": [
        "## Process: Save stats from results"
      ],
      "metadata": {
        "id": "9LyN2JFHu8fp"
      }
    },
    {
      "cell_type": "code",
      "source": [
        "stats_data = create_training_stats(numTopics, max_term,\n",
        "                                   X_train, X_test, rfc_accuracy,\n",
        "                                   rfc_recall, email_accuracy,\n",
        "                                   embedding_dim, num_layers,\n",
        "                                   history, email_accuracy_CNN)\n",
        "print(stats_data)"
      ],
      "metadata": {
        "id": "j3wKgrt9uaHj"
      },
      "execution_count": null,
      "outputs": []
    },
    {
      "cell_type": "code",
      "source": [
        "stats_file_name = \"/results/stats_results.csv\"\n",
        "save_stats(stats_data, stats_file_name)"
      ],
      "metadata": {
        "id": "Nbb22p1jukuK"
      },
      "execution_count": null,
      "outputs": []
    }
  ]
}